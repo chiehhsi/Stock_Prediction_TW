{
 "cells": [
  {
   "cell_type": "code",
   "execution_count": 1045,
   "metadata": {
    "collapsed": true
   },
   "outputs": [],
   "source": [
    "import tensorflow as tf\n",
    "import pandas as pd\n",
    "import matplotlib.pyplot as plt\n",
    "import numpy as np\n",
    "from pandas import Series, DataFrame\n",
    "from sklearn.preprocessing import MinMaxScaler\n",
    "from sklearn.metrics import mean_squared_error"
   ]
  },
  {
   "cell_type": "code",
   "execution_count": 1046,
   "metadata": {
    "scrolled": true
   },
   "outputs": [
    {
     "name": "stdout",
     "output_type": "stream",
     "text": [
      "      Open    Close\n",
      "0  7504.45  7468.22\n",
      "1  7440.56  7361.94\n",
      "2  7379.48  7391.15\n",
      "3  7372.06  7371.44\n",
      "4  7363.25  7397.06\n",
      "5  7430.40  7450.53\n",
      "6  7471.31  7451.35\n",
      "7  7429.93  7367.44\n",
      "8  7383.04  7326.72\n",
      "9  7434.43  7424.91\n",
      "         Close   MACD9\n",
      "0      7468.22   72.38\n",
      "1      7361.94   70.99\n",
      "2      7391.15   68.12\n",
      "3      7371.44   64.14\n",
      "4      7397.06   59.74\n",
      "5      7450.53   55.93\n",
      "6      7451.35   52.84\n",
      "7      7367.44   49.07\n",
      "8      7326.72   44.28\n",
      "9      7424.91   40.38\n",
      "10     7482.74   37.87\n",
      "11     7485.13   36.52\n",
      "12     7570.45   37.02\n",
      "13     7578.80   38.88\n",
      "14     7738.05   43.66\n",
      "15     7762.22   50.54\n",
      "16     7734.26   57.91\n",
      "17     7781.91   65.59\n",
      "18     7727.55   72.41\n",
      "19     7754.59   78.42\n",
      "20     7768.30   83.50\n",
      "21     7734.13   87.35\n",
      "22     7669.63   88.90\n",
      "23     7683.80   88.84\n",
      "24     7715.16   87.94\n",
      "25     7675.72   85.96\n",
      "26     7718.68   83.73\n",
      "27     7684.63   80.99\n",
      "28     7682.34   77.49\n",
      "29     7690.65   73.92\n",
      "...        ...     ...\n",
      "1311  10488.97  -57.31\n",
      "1312  10537.27  -55.59\n",
      "1313  10522.49  -53.21\n",
      "1314  10421.91  -51.75\n",
      "1315  10486.67  -50.40\n",
      "1316  10567.64  -47.67\n",
      "1317  10642.86  -42.93\n",
      "1318  10710.73  -36.10\n",
      "1319  10801.57  -26.66\n",
      "1320  10848.63  -15.36\n",
      "1321  10879.80   -3.00\n",
      "1322  10915.75   10.03\n",
      "1323  10914.89   22.79\n",
      "1324  10831.09   33.84\n",
      "1325  10810.06   42.43\n",
      "1326  10883.96   49.94\n",
      "1327  10956.31   57.47\n",
      "1328  10986.11   64.85\n",
      "1329  11004.80   72.01\n",
      "1330  11071.57   79.82\n",
      "1331  11150.85   88.38\n",
      "1332  11231.46   97.91\n",
      "1333  11253.11  107.89\n",
      "1334  11152.16  116.03\n",
      "1335  11165.95  122.70\n",
      "1336  11147.10  127.13\n",
      "1337  11221.81  130.80\n",
      "1338  11076.78  131.78\n",
      "1339  11103.79  130.53\n",
      "1340  11160.25  128.85\n",
      "\n",
      "[1341 rows x 2 columns]\n"
     ]
    }
   ],
   "source": [
    "tf.reset_default_graph()\n",
    "defined = pd.read_csv('TSE(original).csv',usecols=[1,4]) #[0,1]\n",
    "inputs = pd.read_csv('TSE(original).csv',usecols=[4,13])\n",
    "print (defined[:10])\n",
    "defined=defined.values\n",
    "print(inputs)\n",
    "inputs=inputs.values"
   ]
  },
  {
   "cell_type": "code",
   "execution_count": 1047,
   "metadata": {
    "scrolled": true
   },
   "outputs": [
    {
     "name": "stdout",
     "output_type": "stream",
     "text": [
      "(1341, 2) [[  7468.22     72.38]\n",
      " [  7361.94     70.99]\n",
      " [  7391.15     68.12]\n",
      " ..., \n",
      " [ 11076.78    131.78]\n",
      " [ 11103.79    130.53]\n",
      " [ 11160.25    128.85]]\n",
      "[[  7504.45   7468.22]\n",
      " [  7440.56   7361.94]\n",
      " [  7379.48   7391.15]\n",
      " ..., \n",
      " [ 11189.57  11076.78]\n",
      " [ 11054.36  11103.79]\n",
      " [ 11139.4   11160.25]]\n",
      "7440.56\n"
     ]
    }
   ],
   "source": [
    "inputs=np.array(inputs)\n",
    "print(inputs.shape, inputs)\n",
    "print(defined)\n",
    "print(defined[1][0])"
   ]
  },
  {
   "cell_type": "code",
   "execution_count": 1048,
   "metadata": {},
   "outputs": [
    {
     "data": {
      "image/png": "[encoded data removed]",
      "text/plain": [
       "<matplotlib.figure.Figure at 0x174b3e48>"
      ]
     },
     "metadata": {},
     "output_type": "display_data"
    }
   ],
   "source": [
    "%matplotlib inline\n",
    "plt.plot(defined)\n",
    "plt.show()"
   ]
  },
  {
   "cell_type": "code",
   "execution_count": 1049,
   "metadata": {
    "collapsed": true
   },
   "outputs": [],
   "source": [
    "def create_dataset(dataset, look_back=1,col=1):\n",
    "\n",
    "    dataX, dataY = [], []\n",
    "    \n",
    "    for i in range(len(dataset)-look_back+1):\n",
    "            dataX.append(dataset[i:(i+look_back),:])\n",
    "            dataY.append(dataset[i+look_back-1,:])\n",
    "\n",
    "    return np.array(dataX), np.array(dataY)"
   ]
  },
  {
   "cell_type": "markdown",
   "metadata": {},
   "source": [
    "### Train and Test sets"
   ]
  },
  {
   "cell_type": "code",
   "execution_count": 1050,
   "metadata": {},
   "outputs": [
    {
     "name": "stdout",
     "output_type": "stream",
     "text": [
      "(1072, 5, 2) [[[ 0.52451124  0.64477167]\n",
      "  [ 0.5278921   0.64526803]\n",
      "  [ 0.5449837   0.65008982]\n",
      "  [ 0.54836456  0.65848067]\n",
      "  [ 0.54120904  0.66807696]]\n",
      "\n",
      " [[ 0.5278921   0.64526803]\n",
      "  [ 0.5449837   0.65008982]\n",
      "  [ 0.54836456  0.65848067]\n",
      "  [ 0.54120904  0.66807696]\n",
      "  [ 0.54294269  0.67741326]]\n",
      "\n",
      " [[ 0.5449837   0.65008982]\n",
      "  [ 0.54836456  0.65848067]\n",
      "  [ 0.54120904  0.66807696]\n",
      "  [ 0.54294269  0.67741326]\n",
      "  [ 0.54200623  0.68639501]]\n",
      "\n",
      " [[ 0.54836456  0.65848067]\n",
      "  [ 0.54120904  0.66807696]\n",
      "  [ 0.54294269  0.67741326]\n",
      "  [ 0.54200623  0.68639501]\n",
      "  [ 0.55747943  0.69644039]]\n",
      "\n",
      " [[ 0.54120904  0.66807696]\n",
      "  [ 0.54294269  0.67741326]\n",
      "  [ 0.54200623  0.68639501]\n",
      "  [ 0.55747943  0.69644039]\n",
      "  [ 0.54995174  0.70544578]]]\n"
     ]
    }
   ],
   "source": [
    "#data normalization\n",
    "scaler = MinMaxScaler(feature_range=(0,1))\n",
    "defined= scaler.fit_transform(defined)\n",
    "inputs= scaler.fit_transform(inputs)\n",
    "look_back=5\n",
    "col=2\n",
    "\n",
    "train_size= int(len(defined)*0.8)\n",
    "test_size= len(defined)-train_size\n",
    "\n",
    "data, o= create_dataset(inputs,look_back,2)\n",
    "x_train,x_test= data[0:train_size,:],data[train_size:len(data),:]\n",
    "print(x_train.shape,x_test[0:5])"
   ]
  },
  {
   "cell_type": "code",
   "execution_count": 1051,
   "metadata": {
    "collapsed": true
   },
   "outputs": [],
   "source": [
    "## define [0,1][1,0]\n",
    "def create_updown(dataset):\n",
    "    dataY=[]\n",
    "    for i in range (len(dataset)):\n",
    "        if(i+1)<len(dataset):\n",
    "            #print(dataset[i+1][0], dataset[i][1])\n",
    "            a= dataset[i+1][0]-dataset[i][1]\n",
    "            #print(a)\n",
    "            if np.any(a>0):\n",
    "                dataY.append([0,1])\n",
    "            else:\n",
    "                dataY.append([1,0])\n",
    "                \n",
    "    dataY.append([1,0])\n",
    "    return np.array(dataY,dtype='float32')"
   ]
  },
  {
   "cell_type": "code",
   "execution_count": 1052,
   "metadata": {},
   "outputs": [
    {
     "name": "stdout",
     "output_type": "stream",
     "text": [
      "[[ 0.09393727  0.09117999]\n",
      " [ 0.07845513  0.06566025]\n",
      " [ 0.06365392  0.0726741 ]\n",
      " ..., \n",
      " [ 0.98693384  0.95766   ]\n",
      " [ 0.95416908  0.96414559]\n",
      " [ 0.97477639  0.97770265]]\n"
     ]
    }
   ],
   "source": [
    "print (defined)"
   ]
  },
  {
   "cell_type": "code",
   "execution_count": 1053,
   "metadata": {
    "scrolled": true
   },
   "outputs": [
    {
     "name": "stdout",
     "output_type": "stream",
     "text": [
      "[[ 0.09393727  0.09117999]\n",
      " [ 0.07845513  0.06566025]\n",
      " [ 0.06365392  0.0726741 ]\n",
      " ..., \n",
      " [ 0.98693384  0.95766   ]\n",
      " [ 0.95416908  0.96414559]\n",
      " [ 0.97477639  0.97770265]] [[ 1.  0.]\n",
      " [ 1.  0.]\n",
      " [ 1.  0.]\n",
      " [ 1.  0.]\n",
      " [ 0.  1.]] (1072, 2) (265, 2)\n"
     ]
    }
   ],
   "source": [
    "y_data=create_updown(defined)\n",
    "#y, y_data= create_dataset(defined,look_back,1)\n",
    "y_train, y_test= y_data[look_back-1:train_size+4,:],y_data[train_size+4:len(defined),:]\n",
    "#y_train, y_test= y_data[0:train_size,:],y_data[train_size:len(defined),:]\n",
    "\n",
    "print(defined, y_data[0:5],y_train.shape, y_test.shape)\n",
    "\n"
   ]
  },
  {
   "cell_type": "code",
   "execution_count": 1054,
   "metadata": {
    "scrolled": true
   },
   "outputs": [
    {
     "name": "stdout",
     "output_type": "stream",
     "text": [
      "(1072, 5, 2) (1072, 2) (265, 5, 2) (265, 2)\n"
     ]
    }
   ],
   "source": [
    "print(x_train.shape, y_train.shape, x_test.shape, y_test.shape)"
   ]
  },
  {
   "cell_type": "code",
   "execution_count": 1055,
   "metadata": {},
   "outputs": [
    {
     "name": "stdout",
     "output_type": "stream",
     "text": [
      "(1072, 10) (265, 10)\n"
     ]
    }
   ],
   "source": [
    "#x_train=np.reshape(1072,15)\n",
    "x_train=np.reshape(x_train, (-1, look_back*col))\n",
    "x_test=np.reshape(x_test,(-1, look_back*col))\n",
    "print(x_train.shape, x_test.shape)"
   ]
  },
  {
   "cell_type": "code",
   "execution_count": 1056,
   "metadata": {
    "collapsed": true
   },
   "outputs": [],
   "source": [
    "# Initializers\n",
    "#sigma = 1\n",
    "#weight_initializer = tf.variance_scaling_initializer(mode=\"fan_avg\", distribution=\"uniform\", scale=sigma)\n",
    "#bias_initializer = tf.zeros_initializer()"
   ]
  },
  {
   "cell_type": "code",
   "execution_count": 1057,
   "metadata": {
    "collapsed": true
   },
   "outputs": [],
   "source": [
    "def layer(output_dim,input_dim,inputs,activation):\n",
    "    w=tf.Variable(tf.random_normal([input_dim,output_dim]))\n",
    "    b=tf.Variable(tf.random_normal([1,output_dim]))\n",
    "    xwb=tf.matmul(inputs,w)+b\n",
    "    if activation is None:\n",
    "        outputs=xwb\n",
    "    else:\n",
    "        outputs=activation(xwb)\n",
    "    return outputs"
   ]
  },
  {
   "cell_type": "code",
   "execution_count": 1058,
   "metadata": {},
   "outputs": [
    {
     "data": {
      "text/plain": [
       "TensorShape([Dimension(None), Dimension(10)])"
      ]
     },
     "execution_count": 1058,
     "metadata": {},
     "output_type": "execute_result"
    }
   ],
   "source": [
    "x=tf.placeholder(\"float\",[None,look_back*col])\n",
    "h1=layer(output_dim=80, input_dim=look_back*col, inputs=x, activation=tf.nn.relu)\n",
    "h2=layer(output_dim=10, input_dim=80, inputs=h1,activation=tf.nn.relu)\n",
    "y_predict=layer(output_dim=2, input_dim=10, inputs=h2, activation=None)\n",
    "x.shape"
   ]
  },
  {
   "cell_type": "code",
   "execution_count": 1059,
   "metadata": {},
   "outputs": [],
   "source": [
    "y_label=tf.placeholder(\"float\",[None,2])\n",
    "loss_fun=tf.reduce_mean(tf.nn.sigmoid_cross_entropy_with_logits(logits=y_predict, labels=y_label))\n",
    "optimizer=tf.train.AdamOptimizer(learning_rate=0.0001).minimize(loss_fun)\n"
   ]
  },
  {
   "cell_type": "code",
   "execution_count": 1060,
   "metadata": {
    "collapsed": true
   },
   "outputs": [],
   "source": [
    "correct_predict=tf.equal(tf.argmax(y_label,1),tf.argmax(y_predict,1))\n",
    "accuracy= tf.reduce_mean(tf.cast(correct_predict,\"float\"))"
   ]
  },
  {
   "cell_type": "code",
   "execution_count": 1061,
   "metadata": {
    "collapsed": true
   },
   "outputs": [],
   "source": [
    "trainEpochs=500\n",
    "batchsize=100\n",
    "loss_train=[];epoch_list=[];accuracy_train=[]\n",
    "loss_test=[]; accuracy_test=[]\n",
    "totalbatchs= int(len(data)//batchsize)\n",
    "from time import time\n",
    "startTime=time()\n",
    "\n",
    "sess=tf.Session()\n",
    "sess.run(tf.global_variables_initializer())"
   ]
  },
  {
   "cell_type": "code",
   "execution_count": 1062,
   "metadata": {
    "collapsed": true
   },
   "outputs": [],
   "source": [
    "%matplotlib inline\n",
    "import matplotlib.pyplot as plt"
   ]
  },
  {
   "cell_type": "code",
   "execution_count": 1063,
   "metadata": {},
   "outputs": [
    {
     "name": "stdout",
     "output_type": "stream",
     "text": [
      "Loss_train=  0.645583\n",
      "Loss_test=  0.702834\n",
      "Accuracy_train=  0.648601\n",
      "Accuracy_test=  0.573585\n",
      "Train Finished takes: 11.669600009918213\n"
     ]
    }
   ],
   "source": [
    "\n",
    "for epoch in range(trainEpochs):\n",
    "    shuffle = np.random.permutation(len(y_train)-1)\n",
    "    x_train = x_train[shuffle]\n",
    "    y_train = y_train[shuffle]\n",
    "    for i in range(totalbatchs):\n",
    "        sess.run(optimizer,feed_dict={x:x_train,y_label:y_train})\n",
    "        \n",
    "    \n",
    "    loss_tra,acc_tra= sess.run([loss_fun, accuracy],feed_dict={x:x_train,y_label:y_train})\n",
    "    loss_t,acc_t= sess.run([loss_fun, accuracy],feed_dict={x:x_test,y_label:y_test})\n",
    "    \n",
    "\n",
    "    epoch_list.append(epoch);\n",
    "    loss_test.append(loss_t)\n",
    "    loss_train.append(loss_tra)\n",
    "    accuracy_test.append(acc_t)\n",
    "    accuracy_train.append(acc_tra)\n",
    "    \n",
    "    #print (\"Train Epoch:\",'%02d'%(epoch+1),\"Loss=\",\"{:.9f}\".format(loss),\"Accuracy=\",acc)\n",
    "\n",
    "duration=time()-startTime\n",
    "\n",
    "print(\"Loss_train= \",loss_tra)\n",
    "print (\"Loss_test= \",loss_t)\n",
    "\n",
    "print(\"Accuracy_train= \", acc_tra)\n",
    "print(\"Accuracy_test= \", acc_t)\n",
    "\n",
    "print(\"Train Finished takes:\",duration)"
   ]
  },
  {
   "cell_type": "code",
   "execution_count": 1064,
   "metadata": {},
   "outputs": [
    {
     "data": {
      "text/plain": [
       "<matplotlib.legend.Legend at 0x190cd630>"
      ]
     },
     "execution_count": 1064,
     "metadata": {},
     "output_type": "execute_result"
    },
    {
     "data": {
      "image/png": "[encoded data removed]",
      "text/plain": [
       "<matplotlib.figure.Figure at 0x18ddc320>"
      ]
     },
     "metadata": {},
     "output_type": "display_data"
    }
   ],
   "source": [
    "\n",
    "fig=plt.gcf()\n",
    "fig.set_size_inches(6,3)\n",
    "plt.plot(epoch_list,loss_train, label='loss_train')\n",
    "plt.plot(epoch_list,loss_test, label='loss_test')\n",
    "plt.ylabel('loss')\n",
    "plt.xlabel('epoch')\n",
    "plt.legend()"
   ]
  },
  {
   "cell_type": "code",
   "execution_count": 1065,
   "metadata": {
    "scrolled": true
   },
   "outputs": [
    {
     "data": {
      "image/png": "[encoded data removed]",
      "text/plain": [
       "<matplotlib.figure.Figure at 0x18dcbe80>"
      ]
     },
     "metadata": {},
     "output_type": "display_data"
    }
   ],
   "source": [
    "\n",
    "fig=plt.gcf()\n",
    "fig.set_size_inches(6,3)\n",
    "plt.plot(epoch_list,accuracy_train, label='accuracy_train')\n",
    "plt.plot(epoch_list,accuracy_test, label='accuracy_test')\n",
    "plt.ylabel('accuracy')\n",
    "plt.xlabel('epoch')\n",
    "plt.legend()\n",
    "plt.show()"
   ]
  },
  {
   "cell_type": "code",
   "execution_count": null,
   "metadata": {
    "collapsed": true
   },
   "outputs": [],
   "source": []
  },
  {
   "cell_type": "code",
   "execution_count": null,
   "metadata": {
    "collapsed": true
   },
   "outputs": [],
   "source": []
  },
  {
   "cell_type": "code",
   "execution_count": null,
   "metadata": {
    "collapsed": true
   },
   "outputs": [],
   "source": []
  },
  {
   "cell_type": "code",
   "execution_count": null,
   "metadata": {
    "collapsed": true
   },
   "outputs": [],
   "source": []
  }
 ],
 "metadata": {
  "kernelspec": {
   "display_name": "Python 3",
   "language": "python",
   "name": "python3"
  },
  "language_info": {
   "codemirror_mode": {
    "name": "ipython",
    "version": 3
   },
   "file_extension": ".py",
   "mimetype": "text/x-python",
   "name": "python",
   "nbconvert_exporter": "python",
   "pygments_lexer": "ipython3",
   "version": "3.5.3"
  }
 },
 "nbformat": 4,
 "nbformat_minor": 2
}
