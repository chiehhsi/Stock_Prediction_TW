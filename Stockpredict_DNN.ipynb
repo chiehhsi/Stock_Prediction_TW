{
 "cells": [
  {
   "cell_type": "code",
   "execution_count": 691,
   "metadata": {
    "collapsed": true
   },
   "outputs": [],
   "source": [
    "import tensorflow as tf\n",
    "import pandas as pd\n",
    "import matplotlib.pyplot as plt\n",
    "import numpy as np\n",
    "from pandas import Series, DataFrame\n",
    "from sklearn.preprocessing import MinMaxScaler\n",
    "from sklearn.metrics import mean_squared_error"
   ]
  },
  {
   "cell_type": "code",
   "execution_count": 692,
   "metadata": {},
   "outputs": [
    {
     "data": {
      "text/html": [
       "<div>\n",
       "<style>\n",
       "    .dataframe thead tr:only-child th {\n",
       "        text-align: right;\n",
       "    }\n",
       "\n",
       "    .dataframe thead th {\n",
       "        text-align: left;\n",
       "    }\n",
       "\n",
       "    .dataframe tbody tr th {\n",
       "        vertical-align: top;\n",
       "    }\n",
       "</style>\n",
       "<table border=\"1\" class=\"dataframe\">\n",
       "  <thead>\n",
       "    <tr style=\"text-align: right;\">\n",
       "      <th></th>\n",
       "      <th>Close</th>\n",
       "    </tr>\n",
       "  </thead>\n",
       "  <tbody>\n",
       "    <tr>\n",
       "      <th>0</th>\n",
       "      <td>7468.22</td>\n",
       "    </tr>\n",
       "    <tr>\n",
       "      <th>1</th>\n",
       "      <td>7361.94</td>\n",
       "    </tr>\n",
       "    <tr>\n",
       "      <th>2</th>\n",
       "      <td>7391.15</td>\n",
       "    </tr>\n",
       "    <tr>\n",
       "      <th>3</th>\n",
       "      <td>7371.44</td>\n",
       "    </tr>\n",
       "    <tr>\n",
       "      <th>4</th>\n",
       "      <td>7397.06</td>\n",
       "    </tr>\n",
       "    <tr>\n",
       "      <th>5</th>\n",
       "      <td>7450.53</td>\n",
       "    </tr>\n",
       "    <tr>\n",
       "      <th>6</th>\n",
       "      <td>7451.35</td>\n",
       "    </tr>\n",
       "    <tr>\n",
       "      <th>7</th>\n",
       "      <td>7367.44</td>\n",
       "    </tr>\n",
       "    <tr>\n",
       "      <th>8</th>\n",
       "      <td>7326.72</td>\n",
       "    </tr>\n",
       "    <tr>\n",
       "      <th>9</th>\n",
       "      <td>7424.91</td>\n",
       "    </tr>\n",
       "  </tbody>\n",
       "</table>\n",
       "</div>"
      ],
      "text/plain": [
       "     Close\n",
       "0  7468.22\n",
       "1  7361.94\n",
       "2  7391.15\n",
       "3  7371.44\n",
       "4  7397.06\n",
       "5  7450.53\n",
       "6  7451.35\n",
       "7  7367.44\n",
       "8  7326.72\n",
       "9  7424.91"
      ]
     },
     "execution_count": 692,
     "metadata": {},
     "output_type": "execute_result"
    }
   ],
   "source": [
    "tf.reset_default_graph()\n",
    "data = pd.read_csv('TSE(original).csv',usecols=[4])\n",
    "data.head(10)"
   ]
  },
  {
   "cell_type": "code",
   "execution_count": 693,
   "metadata": {},
   "outputs": [
    {
     "name": "stdout",
     "output_type": "stream",
     "text": [
      "1341 1\n"
     ]
    },
    {
     "data": {
      "text/plain": [
       "array([[  7468.22],\n",
       "       [  7361.94],\n",
       "       [  7391.15],\n",
       "       ..., \n",
       "       [ 11076.78],\n",
       "       [ 11103.79],\n",
       "       [ 11160.25]])"
      ]
     },
     "execution_count": 693,
     "metadata": {},
     "output_type": "execute_result"
    }
   ],
   "source": [
    "n=data.shape[0]\n",
    "p=data.shape[1]\n",
    "print(n,p)\n",
    "data=data.values\n",
    "data"
   ]
  },
  {
   "cell_type": "code",
   "execution_count": 694,
   "metadata": {},
   "outputs": [
    {
     "data": {
      "image/png": "[encoded data removed]",
      "text/plain": [
       "<matplotlib.figure.Figure at 0x15da1cf8>"
      ]
     },
     "metadata": {},
     "output_type": "display_data"
    }
   ],
   "source": [
    "%matplotlib inline\n",
    "plt.plot(data)\n",
    "plt.show()"
   ]
  },
  {
   "cell_type": "code",
   "execution_count": 695,
   "metadata": {
    "collapsed": true
   },
   "outputs": [],
   "source": [
    "def create_dataset(dataset, look_back=1):\n",
    "\n",
    "    dataX, dataY = [], []\n",
    "    for i in range(len(dataset)-look_back+1):\n",
    "        dataX.append(dataset[i:(i+look_back),0])\n",
    "        dataY.append(dataset[i+look_back-1,0])\n",
    "\n",
    "    return np.array(dataX), np.array(dataY)"
   ]
  },
  {
   "cell_type": "code",
   "execution_count": 696,
   "metadata": {
    "scrolled": false
   },
   "outputs": [
    {
     "name": "stdout",
     "output_type": "stream",
     "text": [
      "1072\n",
      "(1072, 1) (269, 1)\n",
      "(1065, 8) (1065,)\n",
      "(262, 8) (262,)\n"
     ]
    }
   ],
   "source": [
    "#data normalization\n",
    "scaler = MinMaxScaler(feature_range=(0,1))\n",
    "data = scaler.fit_transform(data)\n",
    "\n",
    "# split into train and test sets\n",
    "train_size = int(len(data) * 0.8)\n",
    "test_size = len(data) - train_size\n",
    "\n",
    "print(train_size)\n",
    "train, test = data[0:train_size,:], data[train_size:len(data),:]\n",
    "print(train.shape, test.shape)\n",
    "\n",
    "look_back=8\n",
    "x_train, y_train_o = create_dataset(train, look_back)\n",
    "x_test,y_test_o= create_dataset(test, look_back)\n",
    "\n",
    "print(x_train.shape,y_train_o.shape)\n",
    "print(x_test.shape,y_test_o.shape)\n"
   ]
  },
  {
   "cell_type": "code",
   "execution_count": 697,
   "metadata": {},
   "outputs": [],
   "source": [
    "#define [0,1][1,0]\n",
    "def create_updown(dataset):\n",
    "    dataY=[]\n",
    "    for i in range (len(dataset)-1):\n",
    "        x= dataset[i+1]-dataset[i]\n",
    "        if np.any(x>0):\n",
    "            dataY.append([0,1])\n",
    "        else:\n",
    "            dataY.append([1,0])\n",
    "    return np.array(dataY,dtype='float32')"
   ]
  },
  {
   "cell_type": "code",
   "execution_count": 698,
   "metadata": {},
   "outputs": [
    {
     "name": "stdout",
     "output_type": "stream",
     "text": [
      "[[ 1.  0.]\n",
      " [ 0.  1.]\n",
      " [ 0.  1.]\n",
      " ..., \n",
      " [ 1.  0.]\n",
      " [ 0.  1.]\n",
      " [ 0.  1.]]\n",
      "(1065, 2)\n",
      "(262, 2)\n"
     ]
    }
   ],
   "source": [
    "y_train=create_updown(y_train_o)\n",
    "if y_train_o[len(y_train_o)-1] > y_test_o[0]:\n",
    "    y_train=np.vstack((y_train,[1,0]))\n",
    "else:\n",
    "    y_train=np.vstack((y_train,[0,1]))\n",
    "print(y_train)\n",
    "print(y_train.shape)\n",
    "y_test=create_updown(y_test_o)\n",
    "y_test=np.vstack((y_test,[1,0]))\n",
    "print(y_test.shape)"
   ]
  },
  {
   "cell_type": "code",
   "execution_count": 699,
   "metadata": {
    "collapsed": true
   },
   "outputs": [],
   "source": [
    "def layer(output_dim,input_dim,inputs,activation):\n",
    "    w=tf.Variable(tf.random_normal([input_dim,output_dim]))\n",
    "    b=tf.Variable(tf.random_normal([1,output_dim]))\n",
    "    xwb=tf.matmul(inputs,w)+b\n",
    "    if activation is None:\n",
    "        outputs=xwb\n",
    "    else:\n",
    "        outputs=activation(xwb)\n",
    "    return outputs"
   ]
  },
  {
   "cell_type": "code",
   "execution_count": 700,
   "metadata": {},
   "outputs": [],
   "source": [
    "x=tf.placeholder(\"float\",[None,look_back])\n",
    "h1=layer(output_dim=80, input_dim=look_back, inputs=x, activation=tf.nn.relu)\n",
    "h2=layer(output_dim=30, input_dim=80, inputs=h1,activation=tf.nn.relu)\n",
    "y_predict=layer(output_dim=2, input_dim=30, inputs=h2, activation=None)"
   ]
  },
  {
   "cell_type": "code",
   "execution_count": 701,
   "metadata": {},
   "outputs": [],
   "source": [
    "y_label=tf.placeholder(\"float\",[None,2])\n",
    "loss_fun=tf.reduce_mean(tf.nn.softmax_cross_entropy_with_logits(logits=y_predict, labels=y_label))\n",
    "optimizer=tf.train.AdamOptimizer(learning_rate=0.0001).minimize(loss_fun)\n"
   ]
  },
  {
   "cell_type": "code",
   "execution_count": 702,
   "metadata": {
    "collapsed": true
   },
   "outputs": [],
   "source": [
    "correct_predict=tf.equal(tf.argmax(y_label,1),tf.argmax(y_predict,1))\n",
    "accuracy= tf.reduce_mean(tf.cast(correct_predict,\"float\"))"
   ]
  },
  {
   "cell_type": "code",
   "execution_count": 703,
   "metadata": {},
   "outputs": [],
   "source": [
    "trainEpochs=500\n",
    "batchsize=100\n",
    "loss_train=[];epoch_list=[];accuracy_train=[]\n",
    "loss_test=[]; accuracy_test=[]\n",
    "totalbatchs= int(len(data)//batchsize)\n",
    "from time import time\n",
    "startTime=time()\n",
    "\n",
    "sess=tf.Session()\n",
    "sess.run(tf.global_variables_initializer())"
   ]
  },
  {
   "cell_type": "code",
   "execution_count": 704,
   "metadata": {},
   "outputs": [
    {
     "name": "stdout",
     "output_type": "stream",
     "text": [
      "Loss_train=  0.664243\n",
      "Loss_test=  1.04914\n",
      "Accuracy_train=  0.575587\n",
      "Accuracy_test=  0.446565\n",
      "Train Finished takes: 14.015199899673462\n"
     ]
    }
   ],
   "source": [
    "\n",
    "for epoch in range(trainEpochs):\n",
    "    shuffle = np.random.permutation(len(y_train))\n",
    "    x_train = x_train[shuffle]\n",
    "    y_train = y_train[shuffle]\n",
    "    for i in range(totalbatchs):\n",
    "        sess.run(optimizer,feed_dict={x:x_train,y_label:y_train}) \n",
    "    \n",
    "    loss_tra,acc_tra= sess.run([loss_fun, accuracy],feed_dict={x:x_train,y_label:y_train})\n",
    "    loss_t,acc_t= sess.run([loss_fun, accuracy],feed_dict={x:x_test,y_label:y_test})\n",
    "\n",
    "    epoch_list.append(epoch);\n",
    "    loss_test.append(loss_t)\n",
    "    loss_train.append(loss_tra)\n",
    "    accuracy_test.append(acc_t)\n",
    "    accuracy_train.append(acc_tra)\n",
    "    #print (\"Train Epoch:\",'%02d'%(epoch+1),\"Loss=\",\"{:.9f}\".format(loss),\"Accuracy=\",acc)\n",
    "\n",
    "duration=time()-startTime\n",
    "\n",
    "#pred_result = sess.run(tf.argmax(y_predict, 1), feed_dict={x: x_test})\n",
    "#true_result = sess.run(tf.argmax(y_label, 1), feed_dict={y_label: y_test})\n",
    "\n",
    "#print ('Pred Result=\\n', pred_result)\n",
    "#print ('True Result=\\n', true_result)\n",
    "\n",
    "print(\"Loss_train= \",loss_tra)\n",
    "print (\"Loss_test= \",loss_t)\n",
    "\n",
    "print(\"Accuracy_train= \", acc_tra)\n",
    "print(\"Accuracy_test= \", acc_t)\n",
    "\n",
    "print(\"Train Finished takes:\",duration)"
   ]
  },
  {
   "cell_type": "code",
   "execution_count": 705,
   "metadata": {},
   "outputs": [
    {
     "data": {
      "text/plain": [
       "<matplotlib.legend.Legend at 0x18a43b38>"
      ]
     },
     "execution_count": 705,
     "metadata": {},
     "output_type": "execute_result"
    },
    {
     "data": {
      "image/png": "[encoded data removed]",
      "text/plain": [
       "<matplotlib.figure.Figure at 0x15624278>"
      ]
     },
     "metadata": {},
     "output_type": "display_data"
    }
   ],
   "source": [
    "%matplotlib inline\n",
    "import matplotlib.pyplot as plt\n",
    "fig=plt.gcf()\n",
    "fig.set_size_inches(6,3)\n",
    "plt.plot(epoch_list,loss_train, label='loss_train')\n",
    "plt.plot(epoch_list,loss_test, label='loss_test')\n",
    "plt.ylabel('loss')\n",
    "plt.xlabel('epoch')\n",
    "plt.legend()"
   ]
  },
  {
   "cell_type": "code",
   "execution_count": 706,
   "metadata": {
    "scrolled": true
   },
   "outputs": [
    {
     "data": {
      "image/png": "[encoded data removed]",
      "text/plain": [
       "<matplotlib.figure.Figure at 0x10ae0240>"
      ]
     },
     "metadata": {},
     "output_type": "display_data"
    }
   ],
   "source": [
    "%matplotlib inline\n",
    "import matplotlib.pyplot as plt\n",
    "fig=plt.gcf()\n",
    "fig.set_size_inches(6,3)\n",
    "plt.plot(epoch_list,accuracy_train, label='accuracy_train')\n",
    "plt.plot(epoch_list,accuracy_test, label='accuracy_test')\n",
    "plt.ylabel('accuracy')\n",
    "plt.xlabel('epoch')\n",
    "plt.legend()\n",
    "plt.show()"
   ]
  },
  {
   "cell_type": "code",
   "execution_count": null,
   "metadata": {
    "collapsed": true
   },
   "outputs": [],
   "source": []
  },
  {
   "cell_type": "code",
   "execution_count": null,
   "metadata": {
    "collapsed": true
   },
   "outputs": [],
   "source": []
  },
  {
   "cell_type": "code",
   "execution_count": null,
   "metadata": {
    "collapsed": true
   },
   "outputs": [],
   "source": []
  }
 ],
 "metadata": {
  "kernelspec": {
   "display_name": "Python 3",
   "language": "python",
   "name": "python3"
  }
 },
 "nbformat": 4,
 "nbformat_minor": 2
}
