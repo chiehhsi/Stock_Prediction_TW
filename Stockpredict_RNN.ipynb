{
 "cells": [
  {
   "cell_type": "code",
   "execution_count": 301,
   "metadata": {
    "scrolled": true
   },
   "outputs": [
    {
     "data": {
      "text/html": [
       "<div>\n",
       "<style>\n",
       "    .dataframe thead tr:only-child th {\n",
       "        text-align: right;\n",
       "    }\n",
       "\n",
       "    .dataframe thead th {\n",
       "        text-align: left;\n",
       "    }\n",
       "\n",
       "    .dataframe tbody tr th {\n",
       "        vertical-align: top;\n",
       "    }\n",
       "</style>\n",
       "<table border=\"1\" class=\"dataframe\">\n",
       "  <thead>\n",
       "    <tr style=\"text-align: right;\">\n",
       "      <th></th>\n",
       "      <th>Close</th>\n",
       "    </tr>\n",
       "  </thead>\n",
       "  <tbody>\n",
       "    <tr>\n",
       "      <th>0</th>\n",
       "      <td>7468.22</td>\n",
       "    </tr>\n",
       "    <tr>\n",
       "      <th>1</th>\n",
       "      <td>7361.94</td>\n",
       "    </tr>\n",
       "    <tr>\n",
       "      <th>2</th>\n",
       "      <td>7391.15</td>\n",
       "    </tr>\n",
       "    <tr>\n",
       "      <th>3</th>\n",
       "      <td>7371.44</td>\n",
       "    </tr>\n",
       "    <tr>\n",
       "      <th>4</th>\n",
       "      <td>7397.06</td>\n",
       "    </tr>\n",
       "  </tbody>\n",
       "</table>\n",
       "</div>"
      ],
      "text/plain": [
       "     Close\n",
       "0  7468.22\n",
       "1  7361.94\n",
       "2  7391.15\n",
       "3  7371.44\n",
       "4  7397.06"
      ]
     },
     "execution_count": 301,
     "metadata": {},
     "output_type": "execute_result"
    }
   ],
   "source": [
    "# Importing the libraries\n",
    "import numpy as np\n",
    "import matplotlib.pyplot as plt\n",
    "import pandas as pd\n",
    "import tensorflow as tf\n",
    "from tensorflow.contrib import rnn\n",
    "import numpy as np\n",
    "from pandas import Series, DataFrame\n",
    "from sklearn.preprocessing import MinMaxScaler\n",
    "from sklearn.metrics import mean_squared_error\n",
    "# Reading CSV file into training set\n",
    "defined = pd.read_csv('TSE(original).csv',usecols=[4])\n",
    "inputs = pd.read_csv('TSE(original).csv',usecols=[1,4,13])\n",
    "defined.head()"
   ]
  },
  {
   "cell_type": "code",
   "execution_count": 302,
   "metadata": {},
   "outputs": [
    {
     "name": "stdout",
     "output_type": "stream",
     "text": [
      "(1341, 3) [[  7504.45   7468.22     72.38]\n",
      " [  7440.56   7361.94     70.99]\n",
      " [  7379.48   7391.15     68.12]\n",
      " ..., \n",
      " [ 11189.57  11076.78    131.78]\n",
      " [ 11054.36  11103.79    130.53]\n",
      " [ 11139.4   11160.25    128.85]]\n",
      "(1341, 1)\n"
     ]
    }
   ],
   "source": [
    "defined=defined.values\n",
    "inputs=inputs.values\n",
    "inputs=np.array(inputs)\n",
    "print(inputs.shape, inputs)\n",
    "print(defined.shape)"
   ]
  },
  {
   "cell_type": "code",
   "execution_count": 303,
   "metadata": {},
   "outputs": [
    {
     "data": {
      "image/png": "[encoded data removed]",
      "text/plain": [
       "<matplotlib.figure.Figure at 0x15e4ca20>"
      ]
     },
     "metadata": {},
     "output_type": "display_data"
    }
   ],
   "source": [
    "%matplotlib inline\n",
    "plt.plot(defined)\n",
    "plt.show()"
   ]
  },
  {
   "cell_type": "code",
   "execution_count": 304,
   "metadata": {
    "collapsed": true
   },
   "outputs": [],
   "source": [
    "def create_dataset(dataset, look_back=1,col=1):\n",
    "\n",
    "    dataX, dataY = [], []\n",
    "    \n",
    "    for i in range(len(dataset)-look_back+1):\n",
    "            dataX.append(dataset[i:(i+look_back),:])\n",
    "            dataY.append(dataset[i+look_back-1,:])\n",
    "\n",
    "    return np.array(dataX), np.array(dataY)"
   ]
  },
  {
   "cell_type": "code",
   "execution_count": 305,
   "metadata": {},
   "outputs": [
    {
     "name": "stdout",
     "output_type": "stream",
     "text": [
      "(1072, 5, 3) [[[ 0.51754796  0.52451124  0.64477167]\n",
      "  [ 0.52408104  0.5278921   0.64526803]\n",
      "  [ 0.52481771  0.5449837   0.65008982]\n",
      "  [ 0.54634828  0.54836456  0.65848067]\n",
      "  [ 0.54757687  0.54120904  0.66807696]]\n",
      "\n",
      " [[ 0.52408104  0.5278921   0.64526803]\n",
      "  [ 0.52481771  0.5449837   0.65008982]\n",
      "  [ 0.54634828  0.54836456  0.65848067]\n",
      "  [ 0.54757687  0.54120904  0.66807696]\n",
      "  [ 0.5397522   0.54294269  0.67741326]]\n",
      "\n",
      " [[ 0.52481771  0.5449837   0.65008982]\n",
      "  [ 0.54634828  0.54836456  0.65848067]\n",
      "  [ 0.54757687  0.54120904  0.66807696]\n",
      "  [ 0.5397522   0.54294269  0.67741326]\n",
      "  [ 0.5460478   0.54200623  0.68639501]]\n",
      "\n",
      " [[ 0.54634828  0.54836456  0.65848067]\n",
      "  [ 0.54757687  0.54120904  0.66807696]\n",
      "  [ 0.5397522   0.54294269  0.67741326]\n",
      "  [ 0.5460478   0.54200623  0.68639501]\n",
      "  [ 0.54264314  0.55747943  0.69644039]]\n",
      "\n",
      " [[ 0.54757687  0.54120904  0.66807696]\n",
      "  [ 0.5397522   0.54294269  0.67741326]\n",
      "  [ 0.5460478   0.54200623  0.68639501]\n",
      "  [ 0.54264314  0.55747943  0.69644039]\n",
      "  [ 0.54690321  0.54995174  0.70544578]]]\n"
     ]
    }
   ],
   "source": [
    "#data normalization\n",
    "scaler = MinMaxScaler(feature_range=(0,1))\n",
    "defined= scaler.fit_transform(defined)\n",
    "inputs= scaler.fit_transform(inputs)\n",
    "look_back=5\n",
    "col=3\n",
    "\n",
    "train_size= int(len(defined)*0.8)\n",
    "test_size= len(defined)-train_size\n",
    "\n",
    "data, o= create_dataset(inputs,look_back,3)\n",
    "x_train,x_test= data[0:train_size,:],data[train_size:len(data),:]\n",
    "print(x_train.shape,x_test[0:5])"
   ]
  },
  {
   "cell_type": "code",
   "execution_count": 306,
   "metadata": {
    "collapsed": true
   },
   "outputs": [],
   "source": [
    "## define [0,1][1,0]\n",
    "def create_updown(dataset):\n",
    "    dataY=[]\n",
    "    for i in range (len(dataset)):\n",
    "        if(i+1)<len(dataset):\n",
    "            a= dataset[i+1]-dataset[i]\n",
    "            if np.any(a>0):\n",
    "                dataY.append([0,1])\n",
    "            else:\n",
    "                dataY.append([1,0])\n",
    "    dataY.append([1,0])\n",
    "    return np.array(dataY,dtype='float32')"
   ]
  },
  {
   "cell_type": "code",
   "execution_count": 307,
   "metadata": {},
   "outputs": [
    {
     "name": "stdout",
     "output_type": "stream",
     "text": [
      "(1341, 1) [[ 1.  0.]\n",
      " [ 0.  1.]\n",
      " [ 1.  0.]\n",
      " [ 0.  1.]\n",
      " [ 0.  1.]] (1072, 2) (265, 2)\n"
     ]
    }
   ],
   "source": [
    "y_data=create_updown(defined)\n",
    "y_train, y_test= y_data[look_back-1:train_size+4,:],y_data[train_size+4:len(defined),:]\n",
    "\n",
    "print(defined.shape, y_data[0:5],y_train.shape, y_test.shape)\n"
   ]
  },
  {
   "cell_type": "code",
   "execution_count": 308,
   "metadata": {
    "scrolled": true
   },
   "outputs": [
    {
     "name": "stdout",
     "output_type": "stream",
     "text": [
      "(1072, 5, 3) (1072, 2) (265, 5, 3) (265, 2)\n"
     ]
    }
   ],
   "source": [
    "print(x_train.shape, y_train.shape, x_test.shape, y_test.shape)"
   ]
  },
  {
   "cell_type": "code",
   "execution_count": 309,
   "metadata": {},
   "outputs": [
    {
     "name": "stdout",
     "output_type": "stream",
     "text": [
      "(?, 5, 3)\n"
     ]
    }
   ],
   "source": [
    "tf.reset_default_graph()\n",
    "training_rate=0.001\n",
    "batchsize=10\n",
    "displaystep=200\n",
    "\n",
    "n_input=3 \n",
    "n_steps=5\n",
    "n_hidden=100\n",
    "n_classes=2   \n",
    "\n",
    "x=tf.placeholder(\"float\",[None,n_steps,n_input])\n",
    "y=tf.placeholder(\"float\",[None,n_classes])\n",
    "\n",
    "weights ={\n",
    "    #'hidden':tf.Variable(tf.random_normal([n_input,n_hidden])),\n",
    "    'out':tf.Variable(tf.random_normal([n_hidden,n_classes]))\n",
    "}\n",
    "biaes={\n",
    "    #'hidden':tf.Variable(tf.random_normal([n_hidden])),\n",
    "     'out':tf.Variable(tf.random_normal([n_classes]))\n",
    "}\n",
    "print(x.shape)\n"
   ]
  },
  {
   "cell_type": "code",
   "execution_count": 310,
   "metadata": {
    "collapsed": true
   },
   "outputs": [],
   "source": [
    "def RNN (x,weights,biaes):\n",
    "    #x=tf.unstack(x,n_steps,1)\n",
    "    print(x)\n",
    "    lstm_cell = tf.nn.rnn_cell.BasicLSTMCell(n_hidden, forget_bias=1.0, state_is_tuple=True)\n",
    "    #outputs, states=rnn.static_rnn(lstm_cell,x,dtype=tf.float32)\n",
    "    outputs, states=tf.nn.dynamic_rnn(lstm_cell,x,dtype=tf.float32)\n",
    "    outputs=tf.transpose(outputs, [1, 0, 2])[-1]\n",
    "    out= tf.matmul(outputs,weights['out'])+biaes['out']\n",
    "    print(\"rnn out\",out.shape)\n",
    "    return out"
   ]
  },
  {
   "cell_type": "code",
   "execution_count": 311,
   "metadata": {},
   "outputs": [
    {
     "name": "stdout",
     "output_type": "stream",
     "text": [
      "Tensor(\"Placeholder:0\", shape=(?, 5, 3), dtype=float32)\n",
      "rnn out (?, 2)\n"
     ]
    }
   ],
   "source": [
    "logits= RNN(x,weights,biaes)\n",
    "prediction=tf.nn.softmax(logits)\n",
    "\n",
    "loss_op = tf.reduce_mean(tf.nn.softmax_cross_entropy_with_logits(logits=logits,labels=y))\n",
    "\n",
    "optimizer= tf.train.AdamOptimizer(learning_rate=training_rate).minimize(loss_op)\n",
    "\n",
    "init=tf.global_variables_initializer()"
   ]
  },
  {
   "cell_type": "code",
   "execution_count": 312,
   "metadata": {
    "collapsed": true
   },
   "outputs": [],
   "source": [
    "correct_predict=tf.equal(tf.argmax(y,1),tf.argmax(prediction,1))\n",
    "accuracy= tf.reduce_mean(tf.cast(correct_predict,\"float\"))"
   ]
  },
  {
   "cell_type": "code",
   "execution_count": 313,
   "metadata": {
    "collapsed": true,
    "scrolled": true
   },
   "outputs": [],
   "source": [
    "trainEpochs=100\n",
    "batchsize=100\n",
    "loss_train=[];epoch_list=[];accuracy_train=[]\n",
    "loss_test=[]; accuracy_test=[]\n",
    "totalbatchs= int(len(data)//batchsize)\n",
    "from time import time\n",
    "startTime=time()\n",
    "\n",
    "sess=tf.Session()\n",
    "sess.run(tf.global_variables_initializer())\n"
   ]
  },
  {
   "cell_type": "code",
   "execution_count": 314,
   "metadata": {},
   "outputs": [
    {
     "data": {
      "text/plain": [
       "(1072, 5, 3)"
      ]
     },
     "execution_count": 314,
     "metadata": {},
     "output_type": "execute_result"
    }
   ],
   "source": [
    "x_train.shape"
   ]
  },
  {
   "cell_type": "code",
   "execution_count": 315,
   "metadata": {},
   "outputs": [
    {
     "name": "stdout",
     "output_type": "stream",
     "text": [
      "Loss_train=  0.670107\n",
      "Loss_test=  0.735616\n",
      "Accuracy_train=  0.566872\n",
      "Accuracy_test=  0.426415\n",
      "Trained Finished takes: 61.144400119781494\n"
     ]
    }
   ],
   "source": [
    "with tf.Session() as sess:\n",
    "    sess.run(init)\n",
    "    \n",
    "    for epoch in range(trainEpochs):\n",
    "        shuffle = np.random.permutation(len(y_train)-1)\n",
    "        x_train = x_train[shuffle]\n",
    "        y_train = y_train[shuffle]\n",
    "        for i in range(totalbatchs):\n",
    "            sess.run(optimizer,feed_dict={x:x_train,y:y_train}) \n",
    "    \n",
    "        #loss,acc= sess.run([loss_op, accuracy],feed_dict={x:x_train,y:y_train})\n",
    "        loss_tra,acc_tra= sess.run([loss_op, accuracy],feed_dict={x:x_train,y:y_train})\n",
    "        loss_t,acc_t= sess.run([loss_op, accuracy],feed_dict={x:x_test,y:y_test})\n",
    "\n",
    "        epoch_list.append(epoch);\n",
    "        loss_test.append(loss_t)\n",
    "        loss_train.append(loss_tra)\n",
    "        accuracy_test.append(acc_t)\n",
    "        accuracy_train.append(acc_tra)\n",
    "\n",
    "duration= time()-startTime\n",
    "print(\"Loss_train= \",loss_tra)\n",
    "print (\"Loss_test= \",loss_t)\n",
    "\n",
    "print(\"Accuracy_train= \", acc_tra)\n",
    "print(\"Accuracy_test= \", acc_t)\n",
    "\n",
    "print (\"Trained Finished takes:\" , duration)"
   ]
  },
  {
   "cell_type": "code",
   "execution_count": 316,
   "metadata": {},
   "outputs": [
    {
     "data": {
      "text/plain": [
       "<matplotlib.legend.Legend at 0x11df9d68>"
      ]
     },
     "execution_count": 316,
     "metadata": {},
     "output_type": "execute_result"
    },
    {
     "data": {
      "image/png": "[encoded data removed]",
      "text/plain": [
       "<matplotlib.figure.Figure at 0x16459748>"
      ]
     },
     "metadata": {},
     "output_type": "display_data"
    }
   ],
   "source": [
    "%matplotlib inline\n",
    "import matplotlib.pyplot as plt\n",
    "fig=plt.gcf()\n",
    "fig.set_size_inches(6,3)\n",
    "plt.plot(epoch_list,loss_train, label='loss_train')\n",
    "plt.plot(epoch_list,loss_test, label='loss_test')\n",
    "plt.ylabel('loss')\n",
    "plt.xlabel('epoch')\n",
    "plt.legend()"
   ]
  },
  {
   "cell_type": "code",
   "execution_count": 317,
   "metadata": {
    "scrolled": true
   },
   "outputs": [
    {
     "data": {
      "image/png": "[encoded data removed]",
      "text/plain": [
       "<matplotlib.figure.Figure at 0x15e59f98>"
      ]
     },
     "metadata": {},
     "output_type": "display_data"
    }
   ],
   "source": [
    "%matplotlib inline\n",
    "import matplotlib.pyplot as plt\n",
    "fig=plt.gcf()\n",
    "fig.set_size_inches(6,3)\n",
    "plt.plot(epoch_list,accuracy_train, label='accuracy_train')\n",
    "plt.plot(epoch_list,accuracy_test, label='accuracy_test')\n",
    "plt.ylabel('accuracy')\n",
    "plt.xlabel('epoch')\n",
    "plt.legend()\n",
    "plt.show()"
   ]
  },
  {
   "cell_type": "code",
   "execution_count": 318,
   "metadata": {
    "collapsed": true
   },
   "outputs": [],
   "source": [
    "# Visualizing the results\n",
    "#plt.plot(real_stock_price, color = 'red', label = 'Real Tesla Stock Price')\n",
    "#plt.plot(predicted_stock_price, color = 'blue', label = 'Predicted Tesla Stock Price')\n",
    "#plt.title('Tesla Stock Price Prediction')\n",
    "#plt.xlabel('Days')\n",
    "#plt.ylabel('Tesla Stock Price')\n",
    "#plt.legend()\n",
    "#plt.show()"
   ]
  },
  {
   "cell_type": "code",
   "execution_count": 319,
   "metadata": {
    "collapsed": true
   },
   "outputs": [],
   "source": [
    "# Getting the real stock price of 2012 - 2016\n",
    "#real_stock_price_train = pd.read_csv('TSE(original).csv')\n",
    "#real_stock_price_train = real_stock_price_train.iloc[:,1:2].values\n",
    "\n",
    "# Getting the predicted stock price of 2012 - 2016\n",
    "#predicted_stock_price_train = regressor.predict(X_train)\n",
    "#predicted_stock_price_train = sc.inverse_transform(predicted_stock_price_train)\n",
    "\n",
    "# Visualising the results\n",
    "#plt.plot(real_stock_price_train, color = 'red', label = 'Real Tesla Stock Price')\n",
    "#plt.plot(predicted_stock_price_train, color = 'blue', label = 'Predicted Tesla Stock Price')\n",
    "#plt.title('5-year Tesla Stock Price Prediction')\n",
    "#plt.xlabel('Days')\n",
    "#plt.ylabel('Tesla Stock Price')\n",
    "#plt.legend()\n",
    "#plt.show()"
   ]
  },
  {
   "cell_type": "code",
   "execution_count": 320,
   "metadata": {
    "collapsed": true
   },
   "outputs": [],
   "source": [
    "#plt.plot(real_stock_price_train, color = 'red', label = 'Real Tesla Stock Price')\n",
    "#plt.title('5-year Tesla Stock Prices')\n",
    "#plt.xlabel('Days')\n",
    "#plt.ylabel('Tesla Stock Price')\n",
    "#plt.legend()\n",
    "#plt.show()"
   ]
  },
  {
   "cell_type": "code",
   "execution_count": 321,
   "metadata": {
    "collapsed": true
   },
   "outputs": [],
   "source": [
    "#plt.plot(predicted_stock_price_train, color = 'blue', label = 'Predicted Tesla Stock Price')\n",
    "#plt.title('5-year Tesla Stock Price Prediction')\n",
    "#plt.xlabel('Days')\n",
    "#plt.ylabel('Tesla Stock Price')\n",
    "#plt.legend()\n",
    "#plt.show()"
   ]
  },
  {
   "cell_type": "code",
   "execution_count": null,
   "metadata": {
    "collapsed": true
   },
   "outputs": [],
   "source": []
  }
 ],
 "metadata": {
  "kernelspec": {
   "display_name": "Python 3",
   "language": "python",
   "name": "python3"
  },
  "language_info": {
   "codemirror_mode": {
    "name": "ipython",
    "version": 3
   },
   "file_extension": ".py",
   "mimetype": "text/x-python",
   "name": "python",
   "nbconvert_exporter": "python",
   "pygments_lexer": "ipython3",
   "version": "3.5.3"
  }
 },
 "nbformat": 4,
 "nbformat_minor": 2
}
