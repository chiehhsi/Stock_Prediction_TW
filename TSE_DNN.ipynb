{
 "cells": [
  {
   "cell_type": "code",
   "execution_count": 1836,
   "metadata": {
    "collapsed": true
   },
   "outputs": [],
   "source": [
    "import tensorflow as tf\n",
    "import numpy as np\n",
    "import pandas as pd\n",
    "import matplotlib.pyplot as plt\n",
    "%matplotlib inline\n",
    "from time import time\n",
    "from sklearn.preprocessing import MinMaxScaler\n",
    "tf.set_random_seed(1)\n",
    "tf.reset_default_graph()"
   ]
  },
  {
   "cell_type": "markdown",
   "metadata": {},
   "source": [
    "### Raw Data"
   ]
  },
  {
   "cell_type": "code",
   "execution_count": 1837,
   "metadata": {
    "collapsed": false
   },
   "outputs": [
    {
     "data": {
      "text/html": [
       "<div>\n",
       "<table border=\"1\" class=\"dataframe\">\n",
       "  <thead>\n",
       "    <tr style=\"text-align: right;\">\n",
       "      <th></th>\n",
       "      <th>Time</th>\n",
       "      <th>Open</th>\n",
       "      <th>High</th>\n",
       "      <th>Low</th>\n",
       "      <th>Close</th>\n",
       "      <th>SMA5</th>\n",
       "      <th>SMA10</th>\n",
       "      <th>SMA20</th>\n",
       "      <th>SMA60</th>\n",
       "      <th>Volumn</th>\n",
       "      <th>MA5</th>\n",
       "      <th>MA10</th>\n",
       "      <th>DIF12_26</th>\n",
       "      <th>MACD9</th>\n",
       "      <th>OSC</th>\n",
       "      <th>K9</th>\n",
       "      <th>D9</th>\n",
       "    </tr>\n",
       "  </thead>\n",
       "  <tbody>\n",
       "    <tr>\n",
       "      <th>0</th>\n",
       "      <td>2012/8/27</td>\n",
       "      <td>7504.45</td>\n",
       "      <td>7523.54</td>\n",
       "      <td>7457.75</td>\n",
       "      <td>7468.22</td>\n",
       "      <td>7490.86</td>\n",
       "      <td>7479.13</td>\n",
       "      <td>7395.94</td>\n",
       "      <td>7241.56</td>\n",
       "      <td>659.18</td>\n",
       "      <td>710.53</td>\n",
       "      <td>729.91</td>\n",
       "      <td>76.32</td>\n",
       "      <td>72.38</td>\n",
       "      <td>3.94</td>\n",
       "      <td>0.5732</td>\n",
       "      <td>0.6845</td>\n",
       "    </tr>\n",
       "    <tr>\n",
       "      <th>1</th>\n",
       "      <td>2012/8/28</td>\n",
       "      <td>7440.56</td>\n",
       "      <td>7445.08</td>\n",
       "      <td>7359.83</td>\n",
       "      <td>7361.94</td>\n",
       "      <td>7461.89</td>\n",
       "      <td>7467.40</td>\n",
       "      <td>7406.10</td>\n",
       "      <td>7249.34</td>\n",
       "      <td>736.45</td>\n",
       "      <td>700.44</td>\n",
       "      <td>722.05</td>\n",
       "      <td>65.42</td>\n",
       "      <td>70.99</td>\n",
       "      <td>-5.57</td>\n",
       "      <td>0.3861</td>\n",
       "      <td>0.5850</td>\n",
       "    </tr>\n",
       "    <tr>\n",
       "      <th>2</th>\n",
       "      <td>2012/8/29</td>\n",
       "      <td>7379.48</td>\n",
       "      <td>7405.30</td>\n",
       "      <td>7368.40</td>\n",
       "      <td>7391.15</td>\n",
       "      <td>7440.80</td>\n",
       "      <td>7459.74</td>\n",
       "      <td>7412.13</td>\n",
       "      <td>7255.86</td>\n",
       "      <td>641.73</td>\n",
       "      <td>702.66</td>\n",
       "      <td>711.24</td>\n",
       "      <td>56.67</td>\n",
       "      <td>68.12</td>\n",
       "      <td>-11.45</td>\n",
       "      <td>0.3166</td>\n",
       "      <td>0.4955</td>\n",
       "    </tr>\n",
       "    <tr>\n",
       "      <th>3</th>\n",
       "      <td>2012/8/30</td>\n",
       "      <td>7372.06</td>\n",
       "      <td>7404.94</td>\n",
       "      <td>7360.10</td>\n",
       "      <td>7371.44</td>\n",
       "      <td>7414.06</td>\n",
       "      <td>7447.87</td>\n",
       "      <td>7417.30</td>\n",
       "      <td>7261.11</td>\n",
       "      <td>744.06</td>\n",
       "      <td>713.92</td>\n",
       "      <td>706.17</td>\n",
       "      <td>48.21</td>\n",
       "      <td>64.14</td>\n",
       "      <td>-15.93</td>\n",
       "      <td>0.2330</td>\n",
       "      <td>0.4080</td>\n",
       "    </tr>\n",
       "    <tr>\n",
       "      <th>4</th>\n",
       "      <td>2012/8/31</td>\n",
       "      <td>7363.25</td>\n",
       "      <td>7406.52</td>\n",
       "      <td>7363.25</td>\n",
       "      <td>7397.06</td>\n",
       "      <td>7397.96</td>\n",
       "      <td>7440.78</td>\n",
       "      <td>7426.28</td>\n",
       "      <td>7266.39</td>\n",
       "      <td>626.43</td>\n",
       "      <td>681.57</td>\n",
       "      <td>690.22</td>\n",
       "      <td>42.15</td>\n",
       "      <td>59.74</td>\n",
       "      <td>-17.59</td>\n",
       "      <td>0.2256</td>\n",
       "      <td>0.3472</td>\n",
       "    </tr>\n",
       "  </tbody>\n",
       "</table>\n",
       "</div>"
      ],
      "text/plain": [
       "        Time     Open     High      Low    Close     SMA5    SMA10    SMA20  \\\n",
       "0  2012/8/27  7504.45  7523.54  7457.75  7468.22  7490.86  7479.13  7395.94   \n",
       "1  2012/8/28  7440.56  7445.08  7359.83  7361.94  7461.89  7467.40  7406.10   \n",
       "2  2012/8/29  7379.48  7405.30  7368.40  7391.15  7440.80  7459.74  7412.13   \n",
       "3  2012/8/30  7372.06  7404.94  7360.10  7371.44  7414.06  7447.87  7417.30   \n",
       "4  2012/8/31  7363.25  7406.52  7363.25  7397.06  7397.96  7440.78  7426.28   \n",
       "\n",
       "     SMA60  Volumn     MA5    MA10  DIF12_26  MACD9    OSC      K9      D9  \n",
       "0  7241.56  659.18  710.53  729.91     76.32  72.38   3.94  0.5732  0.6845  \n",
       "1  7249.34  736.45  700.44  722.05     65.42  70.99  -5.57  0.3861  0.5850  \n",
       "2  7255.86  641.73  702.66  711.24     56.67  68.12 -11.45  0.3166  0.4955  \n",
       "3  7261.11  744.06  713.92  706.17     48.21  64.14 -15.93  0.2330  0.4080  \n",
       "4  7266.39  626.43  681.57  690.22     42.15  59.74 -17.59  0.2256  0.3472  "
      ]
     },
     "execution_count": 1837,
     "metadata": {},
     "output_type": "execute_result"
    }
   ],
   "source": [
    "np.random.seed(7)\n",
    "df = pd.read_csv('TSE.csv')\n",
    "df.head()"
   ]
  },
  {
   "cell_type": "code",
   "execution_count": 1838,
   "metadata": {
    "collapsed": false
   },
   "outputs": [
    {
     "data": {
      "text/plain": [
       "(1341, 17)"
      ]
     },
     "execution_count": 1838,
     "metadata": {},
     "output_type": "execute_result"
    }
   ],
   "source": [
    "df.shape"
   ]
  },
  {
   "cell_type": "code",
   "execution_count": 1839,
   "metadata": {
    "collapsed": false
   },
   "outputs": [
    {
     "data": {
      "text/html": [
       "<div>\n",
       "<table border=\"1\" class=\"dataframe\">\n",
       "  <thead>\n",
       "    <tr style=\"text-align: right;\">\n",
       "      <th></th>\n",
       "      <th>Open</th>\n",
       "      <th>High</th>\n",
       "      <th>Low</th>\n",
       "      <th>Close</th>\n",
       "      <th>SMA5</th>\n",
       "      <th>SMA10</th>\n",
       "      <th>SMA20</th>\n",
       "      <th>SMA60</th>\n",
       "      <th>Volumn</th>\n",
       "      <th>MA5</th>\n",
       "      <th>MA10</th>\n",
       "      <th>DIF12_26</th>\n",
       "      <th>MACD9</th>\n",
       "      <th>OSC</th>\n",
       "      <th>K9</th>\n",
       "      <th>D9</th>\n",
       "    </tr>\n",
       "  </thead>\n",
       "  <tbody>\n",
       "    <tr>\n",
       "      <th>count</th>\n",
       "      <td>1341.000000</td>\n",
       "      <td>1341.000000</td>\n",
       "      <td>1341.000000</td>\n",
       "      <td>1341.000000</td>\n",
       "      <td>1341.000000</td>\n",
       "      <td>1341.000000</td>\n",
       "      <td>1341.000000</td>\n",
       "      <td>1341.000000</td>\n",
       "      <td>1341.000000</td>\n",
       "      <td>1341.000000</td>\n",
       "      <td>1341.000000</td>\n",
       "      <td>1341.000000</td>\n",
       "      <td>1341.000000</td>\n",
       "      <td>1341.000000</td>\n",
       "      <td>1341.000000</td>\n",
       "      <td>1341.000000</td>\n",
       "    </tr>\n",
       "    <tr>\n",
       "      <th>mean</th>\n",
       "      <td>8938.595474</td>\n",
       "      <td>8972.232125</td>\n",
       "      <td>8898.568337</td>\n",
       "      <td>8935.375541</td>\n",
       "      <td>8929.946309</td>\n",
       "      <td>8923.074646</td>\n",
       "      <td>8909.388949</td>\n",
       "      <td>8857.201156</td>\n",
       "      <td>893.632543</td>\n",
       "      <td>892.762685</td>\n",
       "      <td>891.412707</td>\n",
       "      <td>18.722990</td>\n",
       "      <td>18.551775</td>\n",
       "      <td>0.171387</td>\n",
       "      <td>0.573809</td>\n",
       "      <td>0.573990</td>\n",
       "    </tr>\n",
       "    <tr>\n",
       "      <th>std</th>\n",
       "      <td>901.571704</td>\n",
       "      <td>902.345775</td>\n",
       "      <td>903.709416</td>\n",
       "      <td>903.073680</td>\n",
       "      <td>898.708442</td>\n",
       "      <td>893.494601</td>\n",
       "      <td>884.229647</td>\n",
       "      <td>863.480570</td>\n",
       "      <td>211.164926</td>\n",
       "      <td>178.787698</td>\n",
       "      <td>165.174669</td>\n",
       "      <td>70.788294</td>\n",
       "      <td>65.786940</td>\n",
       "      <td>22.892050</td>\n",
       "      <td>0.251206</td>\n",
       "      <td>0.219807</td>\n",
       "    </tr>\n",
       "    <tr>\n",
       "      <th>min</th>\n",
       "      <td>7116.800000</td>\n",
       "      <td>7134.780000</td>\n",
       "      <td>7050.050000</td>\n",
       "      <td>7088.490000</td>\n",
       "      <td>7119.830000</td>\n",
       "      <td>7159.970000</td>\n",
       "      <td>7175.800000</td>\n",
       "      <td>7241.560000</td>\n",
       "      <td>302.070000</td>\n",
       "      <td>439.910000</td>\n",
       "      <td>498.430000</td>\n",
       "      <td>-315.470000</td>\n",
       "      <td>-271.570000</td>\n",
       "      <td>-63.640000</td>\n",
       "      <td>0.048000</td>\n",
       "      <td>0.092100</td>\n",
       "    </tr>\n",
       "    <tr>\n",
       "      <th>25%</th>\n",
       "      <td>8250.310000</td>\n",
       "      <td>8295.410000</td>\n",
       "      <td>8214.620000</td>\n",
       "      <td>8257.320000</td>\n",
       "      <td>8242.120000</td>\n",
       "      <td>8240.090000</td>\n",
       "      <td>8240.850000</td>\n",
       "      <td>8232.630000</td>\n",
       "      <td>757.090000</td>\n",
       "      <td>775.270000</td>\n",
       "      <td>779.050000</td>\n",
       "      <td>-16.570000</td>\n",
       "      <td>-10.330000</td>\n",
       "      <td>-15.540000</td>\n",
       "      <td>0.366900</td>\n",
       "      <td>0.405700</td>\n",
       "    </tr>\n",
       "    <tr>\n",
       "      <th>50%</th>\n",
       "      <td>8902.940000</td>\n",
       "      <td>8936.570000</td>\n",
       "      <td>8867.780000</td>\n",
       "      <td>8899.900000</td>\n",
       "      <td>8904.730000</td>\n",
       "      <td>8889.880000</td>\n",
       "      <td>8879.160000</td>\n",
       "      <td>8825.150000</td>\n",
       "      <td>864.700000</td>\n",
       "      <td>865.540000</td>\n",
       "      <td>867.260000</td>\n",
       "      <td>36.150000</td>\n",
       "      <td>34.150000</td>\n",
       "      <td>-0.170000</td>\n",
       "      <td>0.604900</td>\n",
       "      <td>0.589700</td>\n",
       "    </tr>\n",
       "    <tr>\n",
       "      <th>75%</th>\n",
       "      <td>9499.220000</td>\n",
       "      <td>9522.990000</td>\n",
       "      <td>9453.490000</td>\n",
       "      <td>9495.840000</td>\n",
       "      <td>9463.570000</td>\n",
       "      <td>9461.690000</td>\n",
       "      <td>9434.310000</td>\n",
       "      <td>9360.160000</td>\n",
       "      <td>1001.450000</td>\n",
       "      <td>973.990000</td>\n",
       "      <td>966.700000</td>\n",
       "      <td>64.990000</td>\n",
       "      <td>61.960000</td>\n",
       "      <td>14.680000</td>\n",
       "      <td>0.802200</td>\n",
       "      <td>0.763300</td>\n",
       "    </tr>\n",
       "    <tr>\n",
       "      <th>max</th>\n",
       "      <td>11243.490000</td>\n",
       "      <td>11270.180000</td>\n",
       "      <td>11201.520000</td>\n",
       "      <td>11253.110000</td>\n",
       "      <td>11190.710000</td>\n",
       "      <td>11166.330000</td>\n",
       "      <td>11045.880000</td>\n",
       "      <td>10755.320000</td>\n",
       "      <td>2335.510000</td>\n",
       "      <td>1705.460000</td>\n",
       "      <td>1544.320000</td>\n",
       "      <td>164.330000</td>\n",
       "      <td>151.510000</td>\n",
       "      <td>77.510000</td>\n",
       "      <td>0.975700</td>\n",
       "      <td>0.946400</td>\n",
       "    </tr>\n",
       "  </tbody>\n",
       "</table>\n",
       "</div>"
      ],
      "text/plain": [
       "               Open          High           Low         Close          SMA5  \\\n",
       "count   1341.000000   1341.000000   1341.000000   1341.000000   1341.000000   \n",
       "mean    8938.595474   8972.232125   8898.568337   8935.375541   8929.946309   \n",
       "std      901.571704    902.345775    903.709416    903.073680    898.708442   \n",
       "min     7116.800000   7134.780000   7050.050000   7088.490000   7119.830000   \n",
       "25%     8250.310000   8295.410000   8214.620000   8257.320000   8242.120000   \n",
       "50%     8902.940000   8936.570000   8867.780000   8899.900000   8904.730000   \n",
       "75%     9499.220000   9522.990000   9453.490000   9495.840000   9463.570000   \n",
       "max    11243.490000  11270.180000  11201.520000  11253.110000  11190.710000   \n",
       "\n",
       "              SMA10         SMA20         SMA60       Volumn          MA5  \\\n",
       "count   1341.000000   1341.000000   1341.000000  1341.000000  1341.000000   \n",
       "mean    8923.074646   8909.388949   8857.201156   893.632543   892.762685   \n",
       "std      893.494601    884.229647    863.480570   211.164926   178.787698   \n",
       "min     7159.970000   7175.800000   7241.560000   302.070000   439.910000   \n",
       "25%     8240.090000   8240.850000   8232.630000   757.090000   775.270000   \n",
       "50%     8889.880000   8879.160000   8825.150000   864.700000   865.540000   \n",
       "75%     9461.690000   9434.310000   9360.160000  1001.450000   973.990000   \n",
       "max    11166.330000  11045.880000  10755.320000  2335.510000  1705.460000   \n",
       "\n",
       "              MA10     DIF12_26        MACD9          OSC           K9  \\\n",
       "count  1341.000000  1341.000000  1341.000000  1341.000000  1341.000000   \n",
       "mean    891.412707    18.722990    18.551775     0.171387     0.573809   \n",
       "std     165.174669    70.788294    65.786940    22.892050     0.251206   \n",
       "min     498.430000  -315.470000  -271.570000   -63.640000     0.048000   \n",
       "25%     779.050000   -16.570000   -10.330000   -15.540000     0.366900   \n",
       "50%     867.260000    36.150000    34.150000    -0.170000     0.604900   \n",
       "75%     966.700000    64.990000    61.960000    14.680000     0.802200   \n",
       "max    1544.320000   164.330000   151.510000    77.510000     0.975700   \n",
       "\n",
       "                D9  \n",
       "count  1341.000000  \n",
       "mean      0.573990  \n",
       "std       0.219807  \n",
       "min       0.092100  \n",
       "25%       0.405700  \n",
       "50%       0.589700  \n",
       "75%       0.763300  \n",
       "max       0.946400  "
      ]
     },
     "execution_count": 1839,
     "metadata": {},
     "output_type": "execute_result"
    }
   ],
   "source": [
    "df.describe()"
   ]
  },
  {
   "cell_type": "code",
   "execution_count": 1840,
   "metadata": {
    "collapsed": false
   },
   "outputs": [
    {
     "data": {
      "text/plain": [
       "[<matplotlib.lines.Line2D at 0x7f1cfc07cdd8>]"
      ]
     },
     "execution_count": 1840,
     "metadata": {},
     "output_type": "execute_result"
    },
    {
     "data": {
      "image/png": "[encoded data removed]",
      "text/plain": [
       "<matplotlib.figure.Figure at 0x7f1cfc04a278>"
      ]
     },
     "metadata": {},
     "output_type": "display_data"
    }
   ],
   "source": [
    "close = df.Close.values\n",
    "#close = close.reshape(len(df), 1)\n",
    "#close = close.astype('float32')\n",
    "plt.plot(close, c='#175FC0')"
   ]
  },
  {
   "cell_type": "code",
   "execution_count": 1841,
   "metadata": {
    "collapsed": false
   },
   "outputs": [
    {
     "data": {
      "text/plain": [
       "(1341, 1)"
      ]
     },
     "execution_count": 1841,
     "metadata": {},
     "output_type": "execute_result"
    }
   ],
   "source": [
    "X = pd.concat([df.Close], axis=1)\n",
    "X.shape"
   ]
  },
  {
   "cell_type": "code",
   "execution_count": 1842,
   "metadata": {
    "collapsed": false,
    "scrolled": true
   },
   "outputs": [
    {
     "data": {
      "text/html": [
       "<div>\n",
       "<table border=\"1\" class=\"dataframe\">\n",
       "  <thead>\n",
       "    <tr style=\"text-align: right;\">\n",
       "      <th></th>\n",
       "      <th>Close</th>\n",
       "    </tr>\n",
       "  </thead>\n",
       "  <tbody>\n",
       "    <tr>\n",
       "      <th>0</th>\n",
       "      <td>7468.22</td>\n",
       "    </tr>\n",
       "    <tr>\n",
       "      <th>1</th>\n",
       "      <td>7361.94</td>\n",
       "    </tr>\n",
       "    <tr>\n",
       "      <th>2</th>\n",
       "      <td>7391.15</td>\n",
       "    </tr>\n",
       "    <tr>\n",
       "      <th>3</th>\n",
       "      <td>7371.44</td>\n",
       "    </tr>\n",
       "    <tr>\n",
       "      <th>4</th>\n",
       "      <td>7397.06</td>\n",
       "    </tr>\n",
       "  </tbody>\n",
       "</table>\n",
       "</div>"
      ],
      "text/plain": [
       "     Close\n",
       "0  7468.22\n",
       "1  7361.94\n",
       "2  7391.15\n",
       "3  7371.44\n",
       "4  7397.06"
      ]
     },
     "execution_count": 1842,
     "metadata": {},
     "output_type": "execute_result"
    }
   ],
   "source": [
    "X.head()"
   ]
  },
  {
   "cell_type": "code",
   "execution_count": 1843,
   "metadata": {
    "collapsed": false
   },
   "outputs": [
    {
     "data": {
      "text/plain": [
       "(1341, 1)"
      ]
     },
     "execution_count": 1843,
     "metadata": {},
     "output_type": "execute_result"
    }
   ],
   "source": [
    "data1 = X.values\n",
    "data1.shape"
   ]
  },
  {
   "cell_type": "code",
   "execution_count": 1844,
   "metadata": {
    "collapsed": false
   },
   "outputs": [
    {
     "data": {
      "text/html": [
       "<div>\n",
       "<table border=\"1\" class=\"dataframe\">\n",
       "  <thead>\n",
       "    <tr style=\"text-align: right;\">\n",
       "      <th></th>\n",
       "      <th>Close</th>\n",
       "      <th>Close</th>\n",
       "    </tr>\n",
       "  </thead>\n",
       "  <tbody>\n",
       "    <tr>\n",
       "      <th>0</th>\n",
       "      <td>NaN</td>\n",
       "      <td>NaN</td>\n",
       "    </tr>\n",
       "    <tr>\n",
       "      <th>1</th>\n",
       "      <td>-106.28</td>\n",
       "      <td>106.28</td>\n",
       "    </tr>\n",
       "    <tr>\n",
       "      <th>2</th>\n",
       "      <td>29.21</td>\n",
       "      <td>-29.21</td>\n",
       "    </tr>\n",
       "    <tr>\n",
       "      <th>3</th>\n",
       "      <td>-19.71</td>\n",
       "      <td>19.71</td>\n",
       "    </tr>\n",
       "    <tr>\n",
       "      <th>4</th>\n",
       "      <td>25.62</td>\n",
       "      <td>-25.62</td>\n",
       "    </tr>\n",
       "  </tbody>\n",
       "</table>\n",
       "</div>"
      ],
      "text/plain": [
       "    Close   Close\n",
       "0     NaN     NaN\n",
       "1 -106.28  106.28\n",
       "2   29.21  -29.21\n",
       "3  -19.71   19.71\n",
       "4   25.62  -25.62"
      ]
     },
     "execution_count": 1844,
     "metadata": {},
     "output_type": "execute_result"
    }
   ],
   "source": [
    "Y = df.Close.diff()\n",
    "Y_ = pd.concat([Y, -Y], axis=1)\n",
    "Y_.head()"
   ]
  },
  {
   "cell_type": "code",
   "execution_count": 1845,
   "metadata": {
    "collapsed": false
   },
   "outputs": [
    {
     "data": {
      "text/html": [
       "<div>\n",
       "<table border=\"1\" class=\"dataframe\">\n",
       "  <thead>\n",
       "    <tr style=\"text-align: right;\">\n",
       "      <th></th>\n",
       "      <th>Close</th>\n",
       "      <th>Close</th>\n",
       "    </tr>\n",
       "  </thead>\n",
       "  <tbody>\n",
       "    <tr>\n",
       "      <th>0</th>\n",
       "      <td>NaN</td>\n",
       "      <td>NaN</td>\n",
       "    </tr>\n",
       "    <tr>\n",
       "      <th>1</th>\n",
       "      <td>1.0</td>\n",
       "      <td>0.0</td>\n",
       "    </tr>\n",
       "    <tr>\n",
       "      <th>2</th>\n",
       "      <td>0.0</td>\n",
       "      <td>1.0</td>\n",
       "    </tr>\n",
       "    <tr>\n",
       "      <th>3</th>\n",
       "      <td>1.0</td>\n",
       "      <td>0.0</td>\n",
       "    </tr>\n",
       "    <tr>\n",
       "      <th>4</th>\n",
       "      <td>0.0</td>\n",
       "      <td>1.0</td>\n",
       "    </tr>\n",
       "  </tbody>\n",
       "</table>\n",
       "</div>"
      ],
      "text/plain": [
       "   Close  Close\n",
       "0    NaN    NaN\n",
       "1    1.0    0.0\n",
       "2    0.0    1.0\n",
       "3    1.0    0.0\n",
       "4    0.0    1.0"
      ]
     },
     "execution_count": 1845,
     "metadata": {},
     "output_type": "execute_result"
    }
   ],
   "source": [
    "Y_[Y_>0] = 0\n",
    "Y_[Y_<0] = 1\n",
    "Y_.head()"
   ]
  },
  {
   "cell_type": "code",
   "execution_count": 1846,
   "metadata": {
    "collapsed": false
   },
   "outputs": [
    {
     "data": {
      "text/plain": [
       "(1341, 2)"
      ]
     },
     "execution_count": 1846,
     "metadata": {},
     "output_type": "execute_result"
    }
   ],
   "source": [
    "data2 = Y_.values\n",
    "data2.shape"
   ]
  },
  {
   "cell_type": "markdown",
   "metadata": {},
   "source": [
    "### Hyperparameter"
   ]
  },
  {
   "cell_type": "code",
   "execution_count": 1847,
   "metadata": {
    "collapsed": false
   },
   "outputs": [],
   "source": [
    "learning_rate = 0.001\n",
    "#learning_rate = tf.train.exponential_decay(0.3, 1, 1, 0.99, staircase=True)\n",
    "total_epoch = 500\n",
    "look_back = 1\n",
    "train_size = 0.8\n",
    "n_step = look_back\n",
    "n_input = X.shape[1]\n",
    "n_output = 2\n",
    "n_hidden1 = 8\n",
    "n_hidden2 = 16\n",
    "batch_size = 134\n",
    "total_batch = int(len(y_data)//batch_size)"
   ]
  },
  {
   "cell_type": "markdown",
   "metadata": {},
   "source": [
    "### Custom Function"
   ]
  },
  {
   "cell_type": "code",
   "execution_count": 1848,
   "metadata": {
    "collapsed": true
   },
   "outputs": [],
   "source": [
    "def create_timeseries(data1, data2, look_back=1):\n",
    "    x_data = []\n",
    "    for i in range(len(data1)-look_back):\n",
    "        a = data1[i:(i+look_back), :]\n",
    "        x_data.append(a) \n",
    "    for i in range(look_back):\n",
    "        data2 = np.delete(data2, 0, axis=0)\n",
    "    return np.array(x_data), np.array(data2)"
   ]
  },
  {
   "cell_type": "code",
   "execution_count": 1849,
   "metadata": {
    "collapsed": true
   },
   "outputs": [],
   "source": [
    "def layer(input_dim, output_dim, inputs, activation=None):\n",
    "    #w_init = tf.variance_scaling_initializer(mode='fan_avg', distribution='uniform', scale=0.12)\n",
    "    b_init = tf.constant_initializer(0.01)\n",
    "    #w = tf.Variable(w_init([input_dim, output_dim]))\n",
    "    w = tf.Variable(tf.random_normal([input_dim, output_dim], stddev=0.1) / np.sqrt(input_dim/2))\n",
    "    b = tf.Variable(b_init([output_dim]))\n",
    "    xwb = tf.add(tf.matmul(inputs, w), b)\n",
    "    if activation is None:\n",
    "        outputs = xwb\n",
    "    else:\n",
    "        outputs = activation(xwb)\n",
    "    return outputs"
   ]
  },
  {
   "cell_type": "markdown",
   "metadata": {},
   "source": [
    "### Training & Testing Sets"
   ]
  },
  {
   "cell_type": "code",
   "execution_count": 1850,
   "metadata": {
    "collapsed": false
   },
   "outputs": [],
   "source": [
    "x_data, y_data = create_timeseries(data1, data2, look_back)"
   ]
  },
  {
   "cell_type": "code",
   "execution_count": 1851,
   "metadata": {
    "collapsed": false
   },
   "outputs": [
    {
     "data": {
      "text/plain": [
       "((1340, 1, 1), (1340, 2))"
      ]
     },
     "execution_count": 1851,
     "metadata": {},
     "output_type": "execute_result"
    }
   ],
   "source": [
    "x_data.shape, y_data.shape"
   ]
  },
  {
   "cell_type": "code",
   "execution_count": 1852,
   "metadata": {
    "collapsed": false,
    "scrolled": false
   },
   "outputs": [
    {
     "data": {
      "text/plain": [
       "array([[[7468.22]],\n",
       "\n",
       "       [[7361.94]],\n",
       "\n",
       "       [[7391.15]],\n",
       "\n",
       "       [[7371.44]],\n",
       "\n",
       "       [[7397.06]]])"
      ]
     },
     "execution_count": 1852,
     "metadata": {},
     "output_type": "execute_result"
    }
   ],
   "source": [
    "x_data[0:5, :, :]"
   ]
  },
  {
   "cell_type": "code",
   "execution_count": 1853,
   "metadata": {
    "collapsed": false
   },
   "outputs": [
    {
     "data": {
      "text/plain": [
       "array([[1., 0.],\n",
       "       [0., 1.],\n",
       "       [1., 0.],\n",
       "       [0., 1.],\n",
       "       [0., 1.]])"
      ]
     },
     "execution_count": 1853,
     "metadata": {},
     "output_type": "execute_result"
    }
   ],
   "source": [
    "y_data[0:5, :]"
   ]
  },
  {
   "cell_type": "code",
   "execution_count": 1854,
   "metadata": {
    "collapsed": false
   },
   "outputs": [],
   "source": [
    "x_train = x_data[0:int(len(x_data)*train_size), :]\n",
    "x_test = x_data[int(len(x_data)*train_size):len(x_data), :] \n",
    "y_train = y_data[0:int(len(y_data)*train_size), :]\n",
    "y_test = y_data[int(len(y_data)*train_size):len(y_data), :] "
   ]
  },
  {
   "cell_type": "code",
   "execution_count": 1855,
   "metadata": {
    "collapsed": false
   },
   "outputs": [
    {
     "data": {
      "text/plain": [
       "array([[[7468.22]],\n",
       "\n",
       "       [[7361.94]],\n",
       "\n",
       "       [[7391.15]],\n",
       "\n",
       "       [[7371.44]],\n",
       "\n",
       "       [[7397.06]]])"
      ]
     },
     "execution_count": 1855,
     "metadata": {},
     "output_type": "execute_result"
    }
   ],
   "source": [
    "x_train[0:5, :]"
   ]
  },
  {
   "cell_type": "code",
   "execution_count": 1856,
   "metadata": {
    "collapsed": false
   },
   "outputs": [
    {
     "data": {
      "text/plain": [
       "array([[1., 0.],\n",
       "       [0., 1.],\n",
       "       [1., 0.],\n",
       "       [0., 1.],\n",
       "       [0., 1.]])"
      ]
     },
     "execution_count": 1856,
     "metadata": {},
     "output_type": "execute_result"
    }
   ],
   "source": [
    "y_train[0:5, :]"
   ]
  },
  {
   "cell_type": "code",
   "execution_count": 1857,
   "metadata": {
    "collapsed": false
   },
   "outputs": [
    {
     "data": {
      "text/plain": [
       "array([[[9272.88]],\n",
       "\n",
       "       [[9286.96]],\n",
       "\n",
       "       [[9358.14]],\n",
       "\n",
       "       [[9372.22]],\n",
       "\n",
       "       [[9342.42]]])"
      ]
     },
     "execution_count": 1857,
     "metadata": {},
     "output_type": "execute_result"
    }
   ],
   "source": [
    "x_test[0:5, :]"
   ]
  },
  {
   "cell_type": "code",
   "execution_count": 1858,
   "metadata": {
    "collapsed": false
   },
   "outputs": [
    {
     "data": {
      "text/plain": [
       "array([[0., 1.],\n",
       "       [0., 1.],\n",
       "       [0., 1.],\n",
       "       [1., 0.],\n",
       "       [0., 1.]])"
      ]
     },
     "execution_count": 1858,
     "metadata": {},
     "output_type": "execute_result"
    }
   ],
   "source": [
    "y_test[0:5, :]"
   ]
  },
  {
   "cell_type": "code",
   "execution_count": 1859,
   "metadata": {
    "collapsed": false
   },
   "outputs": [
    {
     "data": {
      "text/plain": [
       "((1072, 1, 1), (1072, 2), (268, 1, 1), (268, 2))"
      ]
     },
     "execution_count": 1859,
     "metadata": {},
     "output_type": "execute_result"
    }
   ],
   "source": [
    "x_train.shape, y_train.shape, x_test.shape, y_test.shape"
   ]
  },
  {
   "cell_type": "markdown",
   "metadata": {},
   "source": [
    "### Normalization"
   ]
  },
  {
   "cell_type": "code",
   "execution_count": 1860,
   "metadata": {
    "collapsed": false
   },
   "outputs": [],
   "source": [
    "x_train = x_train.reshape(-1, n_step*n_input)\n",
    "x_test = x_test.reshape(-1, n_step*n_input)"
   ]
  },
  {
   "cell_type": "code",
   "execution_count": 1861,
   "metadata": {
    "collapsed": false
   },
   "outputs": [
    {
     "data": {
      "text/plain": [
       "((1072, 1), (1072, 2), (268, 1), (268, 2))"
      ]
     },
     "execution_count": 1861,
     "metadata": {},
     "output_type": "execute_result"
    }
   ],
   "source": [
    "x_train.shape, y_train.shape, x_test.shape, y_test.shape"
   ]
  },
  {
   "cell_type": "code",
   "execution_count": 1862,
   "metadata": {
    "collapsed": false
   },
   "outputs": [],
   "source": [
    "scaler = MinMaxScaler(feature_range=(0, 1)).fit(x_train)\n",
    "x_train = scaler.transform(x_train)\n",
    "x_test = scaler.transform(x_test)\n",
    "y_train = scaler.fit_transform(y_train)\n",
    "y_test = scaler.fit_transform(y_test)"
   ]
  },
  {
   "cell_type": "markdown",
   "metadata": {},
   "source": [
    "### Input Layer"
   ]
  },
  {
   "cell_type": "code",
   "execution_count": 1863,
   "metadata": {
    "collapsed": false
   },
   "outputs": [],
   "source": [
    "x = tf.placeholder('float', [None, n_step*n_input])"
   ]
  },
  {
   "cell_type": "code",
   "execution_count": 1864,
   "metadata": {
    "collapsed": false
   },
   "outputs": [
    {
     "data": {
      "text/plain": [
       "<tf.Tensor 'Placeholder:0' shape=(?, 1) dtype=float32>"
      ]
     },
     "execution_count": 1864,
     "metadata": {},
     "output_type": "execute_result"
    }
   ],
   "source": [
    "x"
   ]
  },
  {
   "cell_type": "markdown",
   "metadata": {},
   "source": [
    "### Hidden Layer"
   ]
  },
  {
   "cell_type": "code",
   "execution_count": 1865,
   "metadata": {
    "collapsed": false
   },
   "outputs": [],
   "source": [
    "h1 = layer(n_step*n_input, n_hidden1, x, tf.nn.relu)\n",
    "h1 = tf.nn.dropout(h1, keep_prob=0.8)\n",
    "#h2 = layer(n_hidden1, n_hidden2, h1, tf.nn.relu)"
   ]
  },
  {
   "cell_type": "code",
   "execution_count": 1866,
   "metadata": {
    "collapsed": false
   },
   "outputs": [
    {
     "data": {
      "text/plain": [
       "<tf.Tensor 'dropout/mul:0' shape=(?, 8) dtype=float32>"
      ]
     },
     "execution_count": 1866,
     "metadata": {},
     "output_type": "execute_result"
    }
   ],
   "source": [
    "h1"
   ]
  },
  {
   "cell_type": "markdown",
   "metadata": {},
   "source": [
    "### Output Layer"
   ]
  },
  {
   "cell_type": "code",
   "execution_count": 1867,
   "metadata": {
    "collapsed": false
   },
   "outputs": [],
   "source": [
    "y_pred = layer(n_hidden1, n_output, h1)"
   ]
  },
  {
   "cell_type": "code",
   "execution_count": 1868,
   "metadata": {
    "collapsed": false
   },
   "outputs": [
    {
     "data": {
      "text/plain": [
       "<tf.Tensor 'Add_1:0' shape=(?, 2) dtype=float32>"
      ]
     },
     "execution_count": 1868,
     "metadata": {},
     "output_type": "execute_result"
    }
   ],
   "source": [
    "y_pred"
   ]
  },
  {
   "cell_type": "markdown",
   "metadata": {},
   "source": [
    "### Modeling"
   ]
  },
  {
   "cell_type": "code",
   "execution_count": 1869,
   "metadata": {
    "collapsed": false
   },
   "outputs": [],
   "source": [
    "y = tf.placeholder('float', [None, n_output])\n",
    "loss_function = tf.reduce_mean(tf.nn.sigmoid_cross_entropy_with_logits(logits=y_pred, labels=y))\n",
    "#optimizer = tf.train.RMSPropOptimizer(learning_rate=learning_rate, momentum=0.0, epsilon=1e-10).minimize(loss_function)\n",
    "#optimizer = tf.train.GradientDescentOptimizer(learning_rate).minimize(loss_function)\n",
    "optimizer = tf.train.AdamOptimizer(learning_rate=learning_rate, epsilon=1e-08).minimize(loss_function)"
   ]
  },
  {
   "cell_type": "code",
   "execution_count": 1870,
   "metadata": {
    "collapsed": false
   },
   "outputs": [],
   "source": [
    "correct_pred = tf.equal(tf.argmax(y_pred, 1), tf.argmax(y, 1))\n",
    "accuracy = tf.reduce_mean(tf.cast(correct_pred, 'float'))"
   ]
  },
  {
   "cell_type": "markdown",
   "metadata": {},
   "source": [
    "### Training"
   ]
  },
  {
   "cell_type": "code",
   "execution_count": 1871,
   "metadata": {
    "collapsed": true
   },
   "outputs": [],
   "source": [
    "sess = tf.Session()\n",
    "sess.run(tf.global_variables_initializer())\n",
    "train_epoch = []; train_loss = []; train_acc = []; test_loss = []; test_acc = [];"
   ]
  },
  {
   "cell_type": "code",
   "execution_count": 1872,
   "metadata": {
    "collapsed": false,
    "scrolled": false
   },
   "outputs": [
    {
     "name": "stdout",
     "output_type": "stream",
     "text": [
      "Pred Result=\n",
      " [1 1 1 0 1 0 1 0 0 0 1 0 1 0 0 1 0 0 1 0 1 0 0 1 0 0 0 0 0 0 1 0 1 1 1 1 0\n",
      " 0 1 1 0 0 0 0 1 0 0 0 0 0 0 1 1 0 0 0 0 0 0 0 1 0 1 0 0 0 0 0 1 0 0 0 0 0\n",
      " 0 1 1 0 0 0 0 0 0 0 0 0 0 0 0 0 0 0 0 0 0 1 0 1 1 0 0 0 0 0 0 1 0 0 0 0 0\n",
      " 0 0 1 1 0 1 0 0 0 0 0 0 0 0 0 0 0 0 0 0 1 0 0 0 0 0 0 0 0 0 0 0 0 0 0 0 0\n",
      " 0 0 0 0 1 0 0 0 0 0 0 0 0 1 0 0 0 0 0 0 0 0 1 0 0 0 0 0 0 0 0 0 0 0 0 0 0\n",
      " 0 0 0 0 0 0 0 0 0 0 0 0 0 0 0 0 1 0 0 0 0 0 0 0 0 0 0 0 0 0 0 0 0 0 0 0 0\n",
      " 0 0 0 0 0 0 0 0 0 0 0 1 0 0 0 0 1 0 0 0 0 0 0 0 0 0 0 1 0 0 0 0 0 0 0 0 0\n",
      " 0 0 0 0 0 0 0 0 0]\n",
      "True Result=\n",
      " [1 1 1 0 1 0 1 0 0 1 0 0 1 1 1 0 1 1 1 0 1 1 1 1 1 0 0 1 0 1 1 0 0 0 1 0 1\n",
      " 1 1 0 0 1 1 0 1 1 1 1 0 1 0 0 0 0 0 0 1 0 0 1 0 0 1 0 0 1 0 0 1 1 1 1 1 1\n",
      " 1 1 1 0 1 0 1 1 0 1 0 0 0 0 1 1 1 1 0 0 1 1 1 1 0 1 1 0 0 1 0 1 1 1 1 1 1\n",
      " 0 1 0 0 1 0 1 0 1 0 0 0 1 1 1 0 1 1 1 0 0 1 1 0 1 0 1 1 1 0 1 1 0 0 0 0 0\n",
      " 1 0 1 0 1 1 1 1 1 1 0 1 1 1 0 1 0 0 1 0 1 0 1 1 1 0 0 1 0 0 0 1 0 1 1 1 1\n",
      " 1 1 1 1 1 1 0 0 1 0 1 1 1 0 0 1 1 1 0 1 0 1 0 0 0 0 1 0 0 1 0 1 1 1 0 0 0\n",
      " 1 0 1 1 0 0 0 1 1 0 1 1 0 1 0 1 0 1 0 0 1 1 1 1 1 1 1 1 0 0 0 1 1 1 1 1 1\n",
      " 1 1 0 1 0 1 0 1 1]\n",
      "Loss= 0.68743974\n",
      "Accuracy= 0.55037314\n",
      "Run Time= 3.0278148651123047\n"
     ]
    }
   ],
   "source": [
    "start = time()\n",
    "\n",
    "for epoch in range(total_epoch):\n",
    "    shuffle = np.random.permutation(len(y_train))\n",
    "    x_train = x_train[shuffle]\n",
    "    y_train = y_train[shuffle]\n",
    "    for i in range(total_batch):\n",
    "        k = i * batch_size\n",
    "        batch_x = x_train[k : k+batch_size]\n",
    "        batch_y = y_train[k : k+batch_size]\n",
    "        sess.run(optimizer, feed_dict={x: batch_x, y: batch_y})\n",
    "    \n",
    "    loss1, acc1 = sess.run([loss_function, accuracy], feed_dict={x: x_train, y: y_train})\n",
    "    loss2, acc2 = sess.run([loss_function, accuracy], feed_dict={x: x_test, y: y_test})\n",
    "    train_epoch.append(epoch); train_loss.append(loss1); train_acc.append(acc1);\n",
    "    test_loss.append(loss2); test_acc.append(acc2);\n",
    "    #print(\"Train Epoch=\", '%02d' % (epoch+1), \\\n",
    "    #\"Loss=\", \"{:.9f}\".format(loss), \\\n",
    "    #\"Accuracy=\", acc)\n",
    "\n",
    "pred_result = sess.run(tf.argmax(y_pred, 1), feed_dict={x: x_test})\n",
    "true_result = sess.run(tf.argmax(y, 1), feed_dict={y: y_test})\n",
    "print ('Pred Result=\\n', pred_result)\n",
    "print ('True Result=\\n', true_result)\n",
    "\n",
    "print ('Loss=', train_loss[-1])\n",
    "print ('Accuracy=', train_acc[-1])\n",
    "\n",
    "end = time()\n",
    "print ('Run Time=', end-start)\n",
    "    \n",
    "sess.close()"
   ]
  },
  {
   "cell_type": "markdown",
   "metadata": {},
   "source": [
    "### Loss & Accuracy"
   ]
  },
  {
   "cell_type": "code",
   "execution_count": 1873,
   "metadata": {
    "collapsed": false
   },
   "outputs": [
    {
     "name": "stderr",
     "output_type": "stream",
     "text": [
      "/home/yangster/anaconda3/lib/python3.5/site-packages/IPython/core/displayhook.py:260: UserWarning: Output cache limit (currently 1000 entries) hit.\n",
      "Flushing oldest 200 entries.\n",
      "  'Flushing oldest {cull_count} entries.'.format(sz=sz, cull_count=cull_count))\n"
     ]
    },
    {
     "data": {
      "text/plain": [
       "<matplotlib.legend.Legend at 0x7f1cfbe17e10>"
      ]
     },
     "execution_count": 1873,
     "metadata": {},
     "output_type": "execute_result"
    },
    {
     "data": {
      "image/png": "[encoded data removed]",
      "text/plain": [
       "<matplotlib.figure.Figure at 0x7f1cfc1b2e80>"
      ]
     },
     "metadata": {},
     "output_type": "display_data"
    }
   ],
   "source": [
    "%matplotlib inline\n",
    "gcf = plt.gcf()\n",
    "gcf.set_size_inches(4, 3)\n",
    "plt.plot(train_epoch, train_loss, c='#0050BA', label='training loss')\n",
    "plt.plot(train_epoch, test_loss, c='#0090FF', label='testing loss')\n",
    "plt.xlabel('epoch')\n",
    "plt.ylabel('loss')\n",
    "plt.legend(loc='upper right', prop={'size': 10})"
   ]
  },
  {
   "cell_type": "code",
   "execution_count": 1874,
   "metadata": {
    "collapsed": false
   },
   "outputs": [
    {
     "data": {
      "text/plain": [
       "<matplotlib.legend.Legend at 0x7f1cfbe28860>"
      ]
     },
     "execution_count": 1874,
     "metadata": {},
     "output_type": "execute_result"
    },
    {
     "data": {
      "image/png": "[encoded data removed]",
      "text/plain": [
       "<matplotlib.figure.Figure at 0x7f1cfc1620b8>"
      ]
     },
     "metadata": {},
     "output_type": "display_data"
    }
   ],
   "source": [
    "%matplotlib inline\n",
    "gcf = plt.gcf()\n",
    "gcf.set_size_inches(4, 3)\n",
    "plt.plot(train_epoch, train_acc, c='#0050BA', label='training acc')\n",
    "plt.plot(train_epoch, test_acc, c='#0090FF', label='testing acc')\n",
    "plt.xlabel('epoch')\n",
    "plt.ylabel('accuracy')\n",
    "plt.legend(loc='lower right', prop={'size': 10})"
   ]
  },
  {
   "cell_type": "markdown",
   "metadata": {},
   "source": [
    "Accuracy should be greater than the following at least:"
   ]
  },
  {
   "cell_type": "code",
   "execution_count": 1875,
   "metadata": {
    "collapsed": false
   },
   "outputs": [
    {
     "data": {
      "text/plain": [
       "0.5382462686567164"
      ]
     },
     "execution_count": 1875,
     "metadata": {},
     "output_type": "execute_result"
    }
   ],
   "source": [
    "len(y_train[np.argmax(y_train, 1)>0]) / len(y_train)"
   ]
  },
  {
   "cell_type": "code",
   "execution_count": 1876,
   "metadata": {
    "collapsed": false
   },
   "outputs": [
    {
     "data": {
      "text/plain": [
       "0.582089552238806"
      ]
     },
     "execution_count": 1876,
     "metadata": {},
     "output_type": "execute_result"
    }
   ],
   "source": [
    "len(y_test[np.argmax(y_test, 1)>0]) / len(y_test)"
   ]
  }
 ],
 "metadata": {
  "anaconda-cloud": {},
  "kernelspec": {
   "display_name": "Python [default]",
   "language": "python",
   "name": "python3"
  },
  "language_info": {
   "codemirror_mode": {
    "name": "ipython",
    "version": 3
   },
   "file_extension": ".py",
   "mimetype": "text/x-python",
   "name": "python",
   "nbconvert_exporter": "python",
   "pygments_lexer": "ipython3",
   "version": "3.5.2"
  }
 },
 "nbformat": 4,
 "nbformat_minor": 1
}
