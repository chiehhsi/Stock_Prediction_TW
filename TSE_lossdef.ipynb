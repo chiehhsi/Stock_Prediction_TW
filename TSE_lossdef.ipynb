{
 "cells": [
  {
   "cell_type": "code",
   "execution_count": 239,
   "metadata": {
    "collapsed": true
   },
   "outputs": [],
   "source": [
    "import tensorflow as tf\n",
    "import pandas as pd\n",
    "import numpy as np\n",
    "from pandas import Series, DataFrame\n",
    "from sklearn import preprocessing\n",
    "from sklearn.preprocessing import MinMaxScaler\n",
    "from sklearn.metrics import mean_squared_error\n",
    "from sklearn.metrics import confusion_matrix\n",
    "import csv\n",
    "import os"
   ]
  },
  {
   "cell_type": "code",
   "execution_count": 240,
   "metadata": {},
   "outputs": [],
   "source": [
    "Stock_ID='2330'\n",
    "file_name='2330.csv'\n",
    "count=0\n",
    "delete=0\n",
    "f = open('TSE(original).csv', 'r')\n",
    "if os.path.exists(file_name)==False:\n",
    "    for row in csv.reader(f):\n",
    "        if(row[1]==Stock_ID or row[1]=='證券代號'):            \n",
    "            if os.path.exists(file_name)==False:\n",
    "                out= open(file_name,'w',newline='')\n",
    "            else:\n",
    "                out= open(file_name,'a',newline='')\n",
    "            csv_write=csv.writer(out,dialect='excel')\n",
    "            if(row[6]!='--'):\n",
    "                #print(row)\n",
    "                csv_write.writerow(row)\n",
    "                count=count+1\n",
    "            else:\n",
    "                delete=delete+1\n",
    "    print(count,delete)\n",
    "f.close()\n"
   ]
  },
  {
   "cell_type": "code",
   "execution_count": 241,
   "metadata": {},
   "outputs": [
    {
     "data": {
      "text/html": [
       "<div>\n",
       "<style>\n",
       "    .dataframe thead tr:only-child th {\n",
       "        text-align: right;\n",
       "    }\n",
       "\n",
       "    .dataframe thead th {\n",
       "        text-align: left;\n",
       "    }\n",
       "\n",
       "    .dataframe tbody tr th {\n",
       "        vertical-align: top;\n",
       "    }\n",
       "</style>\n",
       "<table border=\"1\" class=\"dataframe\">\n",
       "  <thead>\n",
       "    <tr style=\"text-align: right;\">\n",
       "      <th></th>\n",
       "      <th>日期</th>\n",
       "      <th>證券代號</th>\n",
       "      <th>證券名稱</th>\n",
       "      <th>成交股數</th>\n",
       "      <th>成交筆數</th>\n",
       "      <th>成交金額</th>\n",
       "      <th>開盤價</th>\n",
       "      <th>最高價</th>\n",
       "      <th>最低價</th>\n",
       "      <th>收盤價</th>\n",
       "      <th>漲跌(+/-)</th>\n",
       "      <th>漲跌價差</th>\n",
       "      <th>最後揭示買價</th>\n",
       "      <th>最後揭示買量</th>\n",
       "      <th>最後揭示賣價</th>\n",
       "      <th>最後揭示賣量</th>\n",
       "      <th>本益比</th>\n",
       "    </tr>\n",
       "  </thead>\n",
       "  <tbody>\n",
       "    <tr>\n",
       "      <th>1129</th>\n",
       "      <td>20170811</td>\n",
       "      <td>2330</td>\n",
       "      <td>台積電</td>\n",
       "      <td>41592129</td>\n",
       "      <td>13751</td>\n",
       "      <td>8803564627</td>\n",
       "      <td>211.0</td>\n",
       "      <td>213.5</td>\n",
       "      <td>210.5</td>\n",
       "      <td>212.5</td>\n",
       "      <td>-</td>\n",
       "      <td>1.5</td>\n",
       "      <td>212</td>\n",
       "      <td>1568</td>\n",
       "      <td>212.5</td>\n",
       "      <td>388</td>\n",
       "      <td>15.71</td>\n",
       "    </tr>\n",
       "    <tr>\n",
       "      <th>1130</th>\n",
       "      <td>20170814</td>\n",
       "      <td>2330</td>\n",
       "      <td>台積電</td>\n",
       "      <td>29414616</td>\n",
       "      <td>7719</td>\n",
       "      <td>6233486198</td>\n",
       "      <td>213.5</td>\n",
       "      <td>214.0</td>\n",
       "      <td>210.0</td>\n",
       "      <td>211.0</td>\n",
       "      <td>-</td>\n",
       "      <td>1.5</td>\n",
       "      <td>211</td>\n",
       "      <td>618</td>\n",
       "      <td>211.5</td>\n",
       "      <td>63</td>\n",
       "      <td>15.59</td>\n",
       "    </tr>\n",
       "    <tr>\n",
       "      <th>1131</th>\n",
       "      <td>20170815</td>\n",
       "      <td>2330</td>\n",
       "      <td>台積電</td>\n",
       "      <td>14385915</td>\n",
       "      <td>5250</td>\n",
       "      <td>3073117310</td>\n",
       "      <td>213.0</td>\n",
       "      <td>214.5</td>\n",
       "      <td>213.0</td>\n",
       "      <td>214.0</td>\n",
       "      <td>+</td>\n",
       "      <td>3.0</td>\n",
       "      <td>213.5</td>\n",
       "      <td>33</td>\n",
       "      <td>214</td>\n",
       "      <td>1518</td>\n",
       "      <td>15.82</td>\n",
       "    </tr>\n",
       "    <tr>\n",
       "      <th>1132</th>\n",
       "      <td>20170816</td>\n",
       "      <td>2330</td>\n",
       "      <td>台積電</td>\n",
       "      <td>25206990</td>\n",
       "      <td>8610</td>\n",
       "      <td>5357190370</td>\n",
       "      <td>214.5</td>\n",
       "      <td>214.5</td>\n",
       "      <td>211.0</td>\n",
       "      <td>213.0</td>\n",
       "      <td>-</td>\n",
       "      <td>1.0</td>\n",
       "      <td>212.5</td>\n",
       "      <td>14</td>\n",
       "      <td>213</td>\n",
       "      <td>72</td>\n",
       "      <td>15.74</td>\n",
       "    </tr>\n",
       "    <tr>\n",
       "      <th>1133</th>\n",
       "      <td>20170817</td>\n",
       "      <td>2330</td>\n",
       "      <td>台積電</td>\n",
       "      <td>8353232</td>\n",
       "      <td>3120</td>\n",
       "      <td>1785167148</td>\n",
       "      <td>213.5</td>\n",
       "      <td>214.0</td>\n",
       "      <td>213.0</td>\n",
       "      <td>214.0</td>\n",
       "      <td>+</td>\n",
       "      <td>1.0</td>\n",
       "      <td>213.5</td>\n",
       "      <td>1160</td>\n",
       "      <td>214</td>\n",
       "      <td>94</td>\n",
       "      <td>15.82</td>\n",
       "    </tr>\n",
       "  </tbody>\n",
       "</table>\n",
       "</div>"
      ],
      "text/plain": [
       "            日期  證券代號 證券名稱      成交股數   成交筆數        成交金額    開盤價    最高價    最低價  \\\n",
       "1129  20170811  2330  台積電  41592129  13751  8803564627  211.0  213.5  210.5   \n",
       "1130  20170814  2330  台積電  29414616   7719  6233486198  213.5  214.0  210.0   \n",
       "1131  20170815  2330  台積電  14385915   5250  3073117310  213.0  214.5  213.0   \n",
       "1132  20170816  2330  台積電  25206990   8610  5357190370  214.5  214.5  211.0   \n",
       "1133  20170817  2330  台積電   8353232   3120  1785167148  213.5  214.0  213.0   \n",
       "\n",
       "        收盤價 漲跌(+/-)  漲跌價差 最後揭示買價  最後揭示買量 最後揭示賣價  最後揭示賣量    本益比  \n",
       "1129  212.5       -   1.5    212    1568  212.5     388  15.71  \n",
       "1130  211.0       -   1.5    211     618  211.5      63  15.59  \n",
       "1131  214.0       +   3.0  213.5      33    214    1518  15.82  \n",
       "1132  213.0       -   1.0  212.5      14    213      72  15.74  \n",
       "1133  214.0       +   1.0  213.5    1160    214      94  15.82  "
      ]
     },
     "execution_count": 241,
     "metadata": {},
     "output_type": "execute_result"
    }
   ],
   "source": [
    "menu= pd.read_csv(file_name,encoding = \"cp950\")\n",
    "menu.tail()\n"
   ]
  },
  {
   "cell_type": "code",
   "execution_count": 242,
   "metadata": {},
   "outputs": [
    {
     "data": {
      "text/plain": [
       "(1134, 17)"
      ]
     },
     "execution_count": 242,
     "metadata": {},
     "output_type": "execute_result"
    }
   ],
   "source": [
    "menu.shape"
   ]
  },
  {
   "cell_type": "code",
   "execution_count": 243,
   "metadata": {},
   "outputs": [
    {
     "data": {
      "text/html": [
       "<div>\n",
       "<style>\n",
       "    .dataframe thead tr:only-child th {\n",
       "        text-align: right;\n",
       "    }\n",
       "\n",
       "    .dataframe thead th {\n",
       "        text-align: left;\n",
       "    }\n",
       "\n",
       "    .dataframe tbody tr th {\n",
       "        vertical-align: top;\n",
       "    }\n",
       "</style>\n",
       "<table border=\"1\" class=\"dataframe\">\n",
       "  <thead>\n",
       "    <tr style=\"text-align: right;\">\n",
       "      <th></th>\n",
       "      <th>開盤價</th>\n",
       "      <th>最高價</th>\n",
       "      <th>最低價</th>\n",
       "      <th>收盤價</th>\n",
       "      <th>成交股數</th>\n",
       "    </tr>\n",
       "  </thead>\n",
       "  <tbody>\n",
       "    <tr>\n",
       "      <th>0</th>\n",
       "      <td>97.6</td>\n",
       "      <td>99.9</td>\n",
       "      <td>97.1</td>\n",
       "      <td>99.6</td>\n",
       "      <td>40647121</td>\n",
       "    </tr>\n",
       "    <tr>\n",
       "      <th>1</th>\n",
       "      <td>100.5</td>\n",
       "      <td>102.0</td>\n",
       "      <td>100.0</td>\n",
       "      <td>101.0</td>\n",
       "      <td>44335846</td>\n",
       "    </tr>\n",
       "    <tr>\n",
       "      <th>2</th>\n",
       "      <td>100.5</td>\n",
       "      <td>101.5</td>\n",
       "      <td>100.0</td>\n",
       "      <td>101.5</td>\n",
       "      <td>39502577</td>\n",
       "    </tr>\n",
       "    <tr>\n",
       "      <th>3</th>\n",
       "      <td>101.0</td>\n",
       "      <td>101.0</td>\n",
       "      <td>99.1</td>\n",
       "      <td>100.5</td>\n",
       "      <td>42328657</td>\n",
       "    </tr>\n",
       "    <tr>\n",
       "      <th>4</th>\n",
       "      <td>99.6</td>\n",
       "      <td>100.0</td>\n",
       "      <td>98.9</td>\n",
       "      <td>99.7</td>\n",
       "      <td>31218717</td>\n",
       "    </tr>\n",
       "  </tbody>\n",
       "</table>\n",
       "</div>"
      ],
      "text/plain": [
       "     開盤價    最高價    最低價    收盤價      成交股數\n",
       "0   97.6   99.9   97.1   99.6  40647121\n",
       "1  100.5  102.0  100.0  101.0  44335846\n",
       "2  100.5  101.5  100.0  101.5  39502577\n",
       "3  101.0  101.0   99.1  100.5  42328657\n",
       "4   99.6  100.0   98.9   99.7  31218717"
      ]
     },
     "execution_count": 243,
     "metadata": {},
     "output_type": "execute_result"
    }
   ],
   "source": [
    "data=pd.concat([menu['開盤價'],menu['最高價'],menu['最低價'],menu['收盤價'],menu['成交股數']],axis=1)\n",
    "data.head()"
   ]
  },
  {
   "cell_type": "code",
   "execution_count": 244,
   "metadata": {},
   "outputs": [
    {
     "data": {
      "text/plain": [
       "(1134, 5)"
      ]
     },
     "execution_count": 244,
     "metadata": {},
     "output_type": "execute_result"
    }
   ],
   "source": [
    "data.shape"
   ]
  },
  {
   "cell_type": "markdown",
   "metadata": {},
   "source": [
    "## Inputs Data"
   ]
  },
  {
   "cell_type": "code",
   "execution_count": 245,
   "metadata": {
    "collapsed": true
   },
   "outputs": [],
   "source": [
    "def modified(dataset):\n",
    "    numlist=[]\n",
    "    for i in range(len(dataset)):\n",
    "        if (i+1)<len(dataset):\n",
    "            #print(type(dataset[i]))\n",
    "            ave= (dataset[i+1]-dataset[i])/dataset[i]\n",
    "            #print(type(ave))\n",
    "            numlist.append(ave)\n",
    "    numlist=np.array(numlist,dtype='float32')\n",
    "    return numlist\n"
   ]
  },
  {
   "cell_type": "code",
   "execution_count": 246,
   "metadata": {
    "collapsed": true
   },
   "outputs": [],
   "source": [
    "def difference(dataset):\n",
    "    numlist=[]\n",
    "    dataset=np.array(dataset)\n",
    "    for i in range(len(dataset)):\n",
    "        if(i+1)<len(dataset):\n",
    "            dif= dataset[i+1]-dataset[i]\n",
    "            #print(dataset[i+1], dataset[i], dif)\n",
    "            numlist.append(dif)\n",
    "    numlist=np.array(numlist, dtype='float32')\n",
    "    return numlist\n"
   ]
  },
  {
   "cell_type": "code",
   "execution_count": 247,
   "metadata": {
    "collapsed": true
   },
   "outputs": [],
   "source": [
    "def create_dataset(dataset, look_back=1):\n",
    "\n",
    "    dataX = []\n",
    "    \n",
    "    for i in range(len(dataset)-look_back+1):\n",
    "            dataX.append(dataset[i:(i+look_back),:])\n",
    "\n",
    "    return np.array(dataX)"
   ]
  },
  {
   "cell_type": "code",
   "execution_count": 248,
   "metadata": {
    "collapsed": true
   },
   "outputs": [],
   "source": [
    "def markupdown(dataset):\n",
    "    ar=[]\n",
    "    for i in range (len(dataset)):\n",
    "        if dataset[i]<0:\n",
    "            ar.append([1,0])\n",
    "        else:\n",
    "            ar.append([0,1])\n",
    "        #print('ar= ',ar)\n",
    "    return np.array(ar)"
   ]
  },
  {
   "cell_type": "code",
   "execution_count": 249,
   "metadata": {
    "collapsed": true
   },
   "outputs": [],
   "source": [
    "def getmax(array):\n",
    "    maxi=np.amax(array)\n",
    "    return maxi "
   ]
  },
  {
   "cell_type": "code",
   "execution_count": 250,
   "metadata": {
    "collapsed": true
   },
   "outputs": [],
   "source": [
    "look_back=5\n",
    "col=5"
   ]
  },
  {
   "cell_type": "markdown",
   "metadata": {},
   "source": [
    "### Data X Y"
   ]
  },
  {
   "cell_type": "code",
   "execution_count": 251,
   "metadata": {
    "scrolled": false
   },
   "outputs": [
    {
     "name": "stdout",
     "output_type": "stream",
     "text": [
      "[[ 0.02971311  0.02102102  0.02986612  0.01405623]\n",
      " [ 0.         -0.00490196  0.          0.00495049]\n",
      " [ 0.00497512 -0.00492611 -0.009      -0.00985222]\n",
      " [-0.01386139 -0.00990099 -0.00201816 -0.0079602 ]\n",
      " [ 0.00903614  0.005       0.00303337  0.00300903]] (1133, 4)\n",
      "[[ 0.12971312  0.12102102  0.12986612  0.11405623]\n",
      " [ 0.1         0.09509804  0.1         0.1049505 ]\n",
      " [ 0.10497513  0.09507389  0.09100001  0.09014779]\n",
      " [ 0.08613861  0.09009901  0.09798184  0.0920398 ]\n",
      " [ 0.10903615  0.105       0.10303337  0.10300903]] 0.173913\n"
     ]
    }
   ],
   "source": [
    "x=pd.concat([menu['開盤價'],menu['最高價'],menu['最低價'],menu['收盤價']],axis=1)\n",
    "x=np.array(x)\n",
    "#x=x.astype('float')\n",
    "#x=np.fromstring(x, dtype=float, sep=' ')\n",
    "#print(x)\n",
    "\n",
    "x=modified(x)\n",
    "print(x[0:5], x.shape)\n",
    "x=x+0.1    #modified +0.1\n",
    "print(x[0:5],np.amax(x))"
   ]
  },
  {
   "cell_type": "code",
   "execution_count": 252,
   "metadata": {},
   "outputs": [
    {
     "name": "stdout",
     "output_type": "stream",
     "text": [
      "(1134, 1)\n",
      "[[ 0.2       ]\n",
      " [ 0.17819701]\n",
      " [ 0.19094553]\n",
      " [ 0.14082834]\n",
      " [ 0.11916886]] (1133, 1)\n"
     ]
    }
   ],
   "source": [
    "volume=pd.concat([menu['成交股數']],axis=1)\n",
    "days=20\n",
    "print(volume.shape)\n",
    "volume=np.array(volume)\n",
    "vol_data=[]\n",
    "array=np.zeros(shape=(days,1))\n",
    "for i in range(0,len(volume)):\n",
    "    num=i%days\n",
    "    array[num]=volume[i]\n",
    "    maxi= getmax(array)\n",
    "    vol_data.append((volume[i]/maxi)*0.2)\n",
    "    #print(volume[i],maxi)\n",
    "    #print(vol_data)\n",
    "vol_data=np.array(vol_data)\n",
    "vol_data=vol_data[1:len(vol_data)]\n",
    "print(vol_data[0:5],vol_data.shape)    \n"
   ]
  },
  {
   "cell_type": "code",
   "execution_count": 253,
   "metadata": {},
   "outputs": [
    {
     "name": "stdout",
     "output_type": "stream",
     "text": [
      "[[[ 0.12971312  0.12102102  0.12986612  0.11405623  0.2       ]\n",
      "  [ 0.1         0.09509804  0.1         0.1049505   0.17819701]\n",
      "  [ 0.10497513  0.09507389  0.09100001  0.09014779  0.19094553]\n",
      "  [ 0.08613861  0.09009901  0.09798184  0.0920398   0.14082834]\n",
      "  [ 0.10903615  0.105       0.10303337  0.10300903  0.11916886]]\n",
      "\n",
      " [[ 0.1         0.09509804  0.1         0.1049505   0.17819701]\n",
      "  [ 0.10497513  0.09507389  0.09100001  0.09014779  0.19094553]\n",
      "  [ 0.08613861  0.09009901  0.09798184  0.0920398   0.14082834]\n",
      "  [ 0.10903615  0.105       0.10303337  0.10300903  0.11916886]\n",
      "  [ 0.09402985  0.10497513  0.10302419  0.11        0.186009  ]]\n",
      "\n",
      " [[ 0.10497513  0.09507389  0.09100001  0.09014779  0.19094553]\n",
      "  [ 0.08613861  0.09009901  0.09798184  0.0920398   0.14082834]\n",
      "  [ 0.10903615  0.105       0.10303337  0.10300903  0.11916886]\n",
      "  [ 0.09402985  0.10497513  0.10302419  0.11        0.186009  ]\n",
      "  [ 0.11601602  0.1049505   0.11005025  0.1         0.10372578]]\n",
      "\n",
      " [[ 0.08613861  0.09009901  0.09798184  0.0920398   0.14082834]\n",
      "  [ 0.10903615  0.105       0.10303337  0.10300903  0.11916886]\n",
      "  [ 0.09402985  0.10497513  0.10302419  0.11        0.186009  ]\n",
      "  [ 0.11601602  0.1049505   0.11005025  0.1         0.10372578]\n",
      "  [ 0.09507389  0.10492611  0.09502488  0.10990099  0.10635127]]\n",
      "\n",
      " [[ 0.10903615  0.105       0.10303337  0.10300903  0.11916886]\n",
      "  [ 0.09402985  0.10497513  0.10302419  0.11        0.186009  ]\n",
      "  [ 0.11601602  0.1049505   0.11005025  0.1         0.10372578]\n",
      "  [ 0.09507389  0.10492611  0.09502488  0.10990099  0.10635127]\n",
      "  [ 0.10990099  0.1         0.098       0.08529412  0.16246504]]] (1129, 5, 5)\n"
     ]
    }
   ],
   "source": [
    "x=np.append(x,vol_data,axis=1)\n",
    "x_data =create_dataset(x,look_back)\n",
    "print(x_data[0:5],x_data.shape)"
   ]
  },
  {
   "cell_type": "code",
   "execution_count": 254,
   "metadata": {
    "collapsed": true,
    "scrolled": true
   },
   "outputs": [],
   "source": [
    "#scaler = MinMaxScaler(feature_range=(0,1))\n",
    "#x= scaler.fit_transform(x)\n",
    "#x=preprocessing.normalize(x,norm='l2')\n"
   ]
  },
  {
   "cell_type": "code",
   "execution_count": 255,
   "metadata": {
    "scrolled": false
   },
   "outputs": [
    {
     "name": "stdout",
     "output_type": "stream",
     "text": [
      "[[0 1]\n",
      " [0 1]\n",
      " [1 0]\n",
      " [1 0]\n",
      " [0 1]] (1133, 2)\n"
     ]
    }
   ],
   "source": [
    "y=pd.concat([menu['收盤價']],axis=1)\n",
    "y=y.values\n",
    "y=difference(y)\n",
    "y_data= markupdown(y)\n",
    "#print(y[0:6])\n",
    "print(y_data[0:5],y_data.shape)"
   ]
  },
  {
   "cell_type": "markdown",
   "metadata": {},
   "source": [
    "### Data Split"
   ]
  },
  {
   "cell_type": "code",
   "execution_count": 256,
   "metadata": {
    "collapsed": true
   },
   "outputs": [],
   "source": [
    "train_size= int(len(x_data)*0.8)\n",
    "test_size= len(x_data)-train_size"
   ]
  },
  {
   "cell_type": "code",
   "execution_count": 257,
   "metadata": {
    "collapsed": true
   },
   "outputs": [],
   "source": [
    "x_train,x_test= x_data[0:train_size,:],x_data[train_size:len(x_data),:]\n",
    "x_test=x_test[0:len(x_test)-1]"
   ]
  },
  {
   "cell_type": "code",
   "execution_count": 258,
   "metadata": {},
   "outputs": [
    {
     "name": "stdout",
     "output_type": "stream",
     "text": [
      "(903, 5, 5) (225, 5, 5)\n"
     ]
    }
   ],
   "source": [
    "print(x_train.shape, x_test.shape)"
   ]
  },
  {
   "cell_type": "code",
   "execution_count": 259,
   "metadata": {},
   "outputs": [
    {
     "name": "stdout",
     "output_type": "stream",
     "text": [
      "(903, 25) (225, 25)\n"
     ]
    }
   ],
   "source": [
    "x_train=np.reshape(x_train, (-1, look_back*col))\n",
    "x_test=np.reshape(x_test,(-1, look_back*col))\n",
    "#scaler = MinMaxScaler(feature_range=(0,1))\n",
    "#x_train= scaler.fit_transform(x_train)\n",
    "#x_test= scaler.fit_transform(x_test)\n",
    "print(x_train.shape, x_test.shape)"
   ]
  },
  {
   "cell_type": "code",
   "execution_count": 260,
   "metadata": {
    "collapsed": true
   },
   "outputs": [],
   "source": [
    "y_data=y_data[look_back:,:]\n",
    "y_train,y_test= y_data[0:train_size,:],y_data[train_size:len(y_data),:]"
   ]
  },
  {
   "cell_type": "code",
   "execution_count": 261,
   "metadata": {
    "scrolled": true
   },
   "outputs": [
    {
     "name": "stdout",
     "output_type": "stream",
     "text": [
      "(903, 2) (225, 2)\n"
     ]
    }
   ],
   "source": [
    "print(y_train.shape, y_test.shape)"
   ]
  },
  {
   "cell_type": "markdown",
   "metadata": {},
   "source": [
    "## Train Model"
   ]
  },
  {
   "cell_type": "code",
   "execution_count": 262,
   "metadata": {
    "collapsed": true
   },
   "outputs": [],
   "source": [
    "def layer(output_dim,input_dim,inputs,activation):\n",
    "    w=tf.Variable(tf.random_normal([input_dim,output_dim]),dtype=np.float32)\n",
    "    b=tf.Variable(tf.random_normal([1,output_dim]),dtype=np.float32)\n",
    "    xwb=tf.matmul(inputs,w)+b\n",
    "    if activation is None:\n",
    "        outputs=xwb\n",
    "    else:\n",
    "        outputs=activation(xwb)\n",
    "    return outputs"
   ]
  },
  {
   "cell_type": "code",
   "execution_count": 263,
   "metadata": {},
   "outputs": [
    {
     "name": "stdout",
     "output_type": "stream",
     "text": [
      "<class 'tensorflow.python.framework.ops.Tensor'>\n"
     ]
    }
   ],
   "source": [
    "x=tf.placeholder(\"float\",[None,look_back*col])\n",
    "h1=layer(output_dim=40, input_dim=look_back*col, inputs=x, activation=tf.nn.relu)\n",
    "#h2=layer(output_dim=10, input_dim=80, inputs=h1,activation=tf.nn.relu)\n",
    "y_predict=layer(output_dim=2, input_dim=40, inputs=h1, activation=None)\n",
    "print(type(y_predict))\n",
    "y_label=tf.placeholder(\"float\",[None,2])"
   ]
  },
  {
   "cell_type": "code",
   "execution_count": 264,
   "metadata": {
    "collapsed": true
   },
   "outputs": [],
   "source": [
    "def loss():\n",
    "    prediction=tf.argmax(y_predict,1)\n",
    "    prediction=tf.cast(prediction,\"int32\")\n",
    "    pre=tf.dynamic_partition(y_predict,prediction,2)\n",
    "    tru=tf.dynamic_partition(y_label,prediction,2)\n",
    "    check=tf.cast(tf.equal(pre[1],tru[1]),\"int32\")\n",
    "    o=tf.reduce_sum(check)\n",
    "    w=(tf.size(check))- o\n",
    "    val= tf.to_float((o+w)/(tf.maximum(o-w, 1)))\n",
    "    return y_predict-y_predict+val"
   ]
  },
  {
   "cell_type": "code",
   "execution_count": 265,
   "metadata": {
    "collapsed": true
   },
   "outputs": [],
   "source": [
    "b=0.13\n",
    "def my_loss():\n",
    "    #b=tf.Variable(1.)\n",
    "    pre=tf.nn.softmax(y_predict)\n",
    "    tp=tf.reduce_sum(pre*y_label,0)[1]\n",
    "    fp=tf.reduce_sum(pre,0)[1] -tp\n",
    "    fn=tf.reduce_sum(y_label,0)[1]-tp\n",
    "    p=tp/(1.+fp+tp)\n",
    "    r=tp/(1.+tp+fn)\n",
    "    return 1-(b**1+1)*p*r/(b**2*p+r)"
   ]
  },
  {
   "cell_type": "code",
   "execution_count": 266,
   "metadata": {
    "collapsed": true
   },
   "outputs": [],
   "source": [
    "loss_fun=my_loss()\n",
    "optimizer=tf.train.AdamOptimizer(learning_rate=0.001).minimize(loss_fun)"
   ]
  },
  {
   "cell_type": "code",
   "execution_count": 267,
   "metadata": {},
   "outputs": [
    {
     "name": "stdout",
     "output_type": "stream",
     "text": [
      "Tensor(\"Shape_7:0\", shape=(1,), dtype=int32)\n"
     ]
    }
   ],
   "source": [
    "prediction=tf.argmax(y_predict,1)\n",
    "label=tf.argmax(y_label,1)\n",
    "print(tf.shape(label))\n",
    "correct_predict=tf.equal(prediction,label)\n",
    "confusion_mat=tf.confusion_matrix(label,prediction)\n",
    "accuracy= tf.reduce_mean(tf.cast(correct_predict,\"float\"))"
   ]
  },
  {
   "cell_type": "markdown",
   "metadata": {},
   "source": [
    "## Training"
   ]
  },
  {
   "cell_type": "code",
   "execution_count": 268,
   "metadata": {
    "collapsed": true
   },
   "outputs": [],
   "source": [
    "trainEpochs=100\n",
    "batchsize=100\n",
    "totalbatchs= int(len(x_data)//batchsize)\n",
    "\n",
    "loss_train=[];epoch_list=[];accuracy_train=[]\n",
    "loss_test=[]; accuracy_test=[]\n",
    "con_train=[]; con_test=[]\n",
    "from time import time\n",
    "startTime=time()\n",
    "\n",
    "sess=tf.Session()\n",
    "sess.run(tf.global_variables_initializer())"
   ]
  },
  {
   "cell_type": "code",
   "execution_count": 269,
   "metadata": {
    "scrolled": true
   },
   "outputs": [
    {
     "name": "stdout",
     "output_type": "stream",
     "text": [
      "Confusion_train=\n",
      " [[367   5]\n",
      " [480  51]]\n",
      "Confusion_test=\n",
      " [[ 88   3]\n",
      " [121  13]]\n",
      "--------------------------------------\n",
      "\n",
      "Confu_precision_train=  0.910714285714\n",
      "Confu_precision_test=  0.8125\n",
      "--------------------------------------\n",
      "\n",
      "Accuracy_train=  0.462901\n",
      "Accuracy_test=  0.448889\n",
      "Loss_train=  0.187508\n",
      "Loss_test=  0.330289\n",
      "Train Finished takes: 2.4141998291015625\n"
     ]
    }
   ],
   "source": [
    "predict=[]\n",
    "index=[]\n",
    "\n",
    "for epoch in range(trainEpochs):\n",
    "    shuffle = np.random.permutation(len(y_train))\n",
    "    x_train = x_train[shuffle]\n",
    "    y_train = y_train[shuffle]\n",
    "    for i in range(totalbatchs):\n",
    "        sess.run(optimizer,feed_dict={x:x_train,y_label:y_train})\n",
    "        \n",
    "    con_tra = sess.run(confusion_mat, feed_dict={x: x_train, y_label: y_train})\n",
    "    con_t= sess.run(confusion_mat,feed_dict={x:x_test, y_label:y_test})\n",
    "    \n",
    "    #loss_tra=sess.run(loss_fun,feed_dict={x:x_train,y_label:y_train})\n",
    "    #loss_t= sess.run(loss_fun,feed_dict={x:x_test,y_label:y_test})\n",
    "    loss_tra,acc_tra= sess.run([loss_fun, accuracy],feed_dict={x:x_train,y_label:y_train})\n",
    "    loss_t,acc_t= sess.run([loss_fun, accuracy],feed_dict={x:x_test,y_label:y_test})\n",
    "\n",
    "    epoch_list.append(epoch);\n",
    "    #con_train.append(con_tra[1,1]/(con_tra[0,1]+con_tra[1,1]))\n",
    "    #con_test.append(con_t[1,1]/(con_t[0,1]+con_t[1,1]))\n",
    "    loss_train.append(loss_tra)\n",
    "    loss_test.append(loss_t)\n",
    "    accuracy_train.append(acc_tra)\n",
    "    accuracy_test.append(acc_t)\n",
    "    \n",
    "#print(type(loss_tra))\n",
    "#print(\"index= \",index, len(index))\n",
    "duration=time()-startTime\n",
    "print(\"Confusion_train=\\n\", con_tra)\n",
    "print(\"Confusion_test=\\n\", con_t)\n",
    "print(\"--------------------------------------\\n\")\n",
    "print(\"Confu_precision_train= \",con_tra[1,1]/(con_tra[0,1]+con_tra[1,1]))\n",
    "print(\"Confu_precision_test= \",con_t[1,1]/(con_t[0,1]+con_t[1,1]))\n",
    "print(\"--------------------------------------\\n\")\n",
    "print(\"Accuracy_train= \", acc_tra)\n",
    "print(\"Accuracy_test= \",acc_t)\n",
    "\n",
    "print(\"Loss_train= \",loss_tra)\n",
    "print (\"Loss_test= \",loss_t)\n",
    "\n",
    "print(\"Train Finished takes:\",duration)"
   ]
  },
  {
   "cell_type": "markdown",
   "metadata": {},
   "source": [
    "### Plot"
   ]
  },
  {
   "cell_type": "code",
   "execution_count": 270,
   "metadata": {
    "collapsed": true
   },
   "outputs": [],
   "source": [
    "%matplotlib inline\n",
    "import matplotlib.pyplot as plt"
   ]
  },
  {
   "cell_type": "code",
   "execution_count": 271,
   "metadata": {},
   "outputs": [
    {
     "data": {
      "text/plain": [
       "<matplotlib.legend.Legend at 0x15fc4ba8>"
      ]
     },
     "execution_count": 271,
     "metadata": {},
     "output_type": "execute_result"
    },
    {
     "data": {
      "image/png": "[encoded data removed]",
      "text/plain": [
       "<matplotlib.figure.Figure at 0x157e38d0>"
      ]
     },
     "metadata": {},
     "output_type": "display_data"
    }
   ],
   "source": [
    "fig=plt.gcf()\n",
    "fig.set_size_inches(6,3)\n",
    "plt.plot(epoch_list,loss_train, label='loss_train')\n",
    "plt.plot(epoch_list,loss_test, label='loss_test')\n",
    "plt.ylabel('loss')\n",
    "plt.xlabel('epoch')\n",
    "plt.legend()"
   ]
  },
  {
   "cell_type": "code",
   "execution_count": 272,
   "metadata": {},
   "outputs": [
    {
     "data": {
      "image/png": "[encoded data removed]",
      "text/plain": [
       "<matplotlib.figure.Figure at 0x15febc88>"
      ]
     },
     "metadata": {},
     "output_type": "display_data"
    }
   ],
   "source": [
    "fig=plt.gcf()\n",
    "fig.set_size_inches(6,3)\n",
    "plt.plot(epoch_list,accuracy_train, label='accuracy_train')\n",
    "plt.plot(epoch_list,accuracy_test, label='accuracy_test')\n",
    "plt.ylabel('accuracy')\n",
    "plt.xlabel('epoch')\n",
    "plt.legend()\n",
    "plt.show()"
   ]
  },
  {
   "cell_type": "code",
   "execution_count": null,
   "metadata": {
    "collapsed": true
   },
   "outputs": [],
   "source": []
  },
  {
   "cell_type": "code",
   "execution_count": null,
   "metadata": {
    "collapsed": true
   },
   "outputs": [],
   "source": []
  }
 ],
 "metadata": {
  "kernelspec": {
   "display_name": "Python 3",
   "language": "python",
   "name": "python3"
  },
  "language_info": {
   "codemirror_mode": {
    "name": "ipython",
    "version": 3
   },
   "file_extension": ".py",
   "mimetype": "text/x-python",
   "name": "python",
   "nbconvert_exporter": "python",
   "pygments_lexer": "ipython3",
   "version": "3.5.3"
  }
 },
 "nbformat": 4,
 "nbformat_minor": 2
}
