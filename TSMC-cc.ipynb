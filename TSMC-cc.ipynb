{
 "cells": [
  {
   "cell_type": "code",
   "execution_count": 288,
   "metadata": {
    "scrolled": false
   },
   "outputs": [],
   "source": [
    "import tensorflow as tf\n",
    "import pandas as pd\n",
    "import numpy as np\n",
    "from pandas import Series, DataFrame\n",
    "from sklearn.preprocessing import MinMaxScaler\n",
    "from sklearn.metrics import mean_squared_error\n"
   ]
  },
  {
   "cell_type": "code",
   "execution_count": 289,
   "metadata": {},
   "outputs": [
    {
     "data": {
      "text/html": [
       "<div>\n",
       "<style>\n",
       "    .dataframe thead tr:only-child th {\n",
       "        text-align: right;\n",
       "    }\n",
       "\n",
       "    .dataframe thead th {\n",
       "        text-align: left;\n",
       "    }\n",
       "\n",
       "    .dataframe tbody tr th {\n",
       "        vertical-align: top;\n",
       "    }\n",
       "</style>\n",
       "<table border=\"1\" class=\"dataframe\">\n",
       "  <thead>\n",
       "    <tr style=\"text-align: right;\">\n",
       "      <th></th>\n",
       "      <th>Open_</th>\n",
       "      <th>High_</th>\n",
       "      <th>Low_</th>\n",
       "      <th>CC</th>\n",
       "    </tr>\n",
       "  </thead>\n",
       "  <tbody>\n",
       "    <tr>\n",
       "      <th>0</th>\n",
       "      <td>NaN</td>\n",
       "      <td>NaN</td>\n",
       "      <td>NaN</td>\n",
       "      <td>NaN</td>\n",
       "    </tr>\n",
       "    <tr>\n",
       "      <th>1</th>\n",
       "      <td>0.029713</td>\n",
       "      <td>0.021021</td>\n",
       "      <td>0.029866</td>\n",
       "      <td>1.4</td>\n",
       "    </tr>\n",
       "    <tr>\n",
       "      <th>2</th>\n",
       "      <td>0.000000</td>\n",
       "      <td>-0.004902</td>\n",
       "      <td>0.000000</td>\n",
       "      <td>0.5</td>\n",
       "    </tr>\n",
       "    <tr>\n",
       "      <th>3</th>\n",
       "      <td>0.004975</td>\n",
       "      <td>-0.004926</td>\n",
       "      <td>-0.009000</td>\n",
       "      <td>-1.0</td>\n",
       "    </tr>\n",
       "    <tr>\n",
       "      <th>4</th>\n",
       "      <td>-0.013861</td>\n",
       "      <td>-0.009901</td>\n",
       "      <td>-0.002018</td>\n",
       "      <td>-0.8</td>\n",
       "    </tr>\n",
       "  </tbody>\n",
       "</table>\n",
       "</div>"
      ],
      "text/plain": [
       "      Open_     High_      Low_   CC\n",
       "0       NaN       NaN       NaN  NaN\n",
       "1  0.029713  0.021021  0.029866  1.4\n",
       "2  0.000000 -0.004902  0.000000  0.5\n",
       "3  0.004975 -0.004926 -0.009000 -1.0\n",
       "4 -0.013861 -0.009901 -0.002018 -0.8"
      ]
     },
     "execution_count": 289,
     "metadata": {},
     "output_type": "execute_result"
    }
   ],
   "source": [
    "menu= pd.read_csv(\"TSMC_data.csv\",usecols=[2,4,6,8])\n",
    "menu.head()"
   ]
  },
  {
   "cell_type": "code",
   "execution_count": 290,
   "metadata": {},
   "outputs": [
    {
     "data": {
      "text/plain": [
       "(1133, 4)"
      ]
     },
     "execution_count": 290,
     "metadata": {},
     "output_type": "execute_result"
    }
   ],
   "source": [
    "menu=menu.dropna(axis='rows',how='all')\n",
    "menu.shape"
   ]
  },
  {
   "cell_type": "markdown",
   "metadata": {},
   "source": [
    "## inputs data"
   ]
  },
  {
   "cell_type": "code",
   "execution_count": 291,
   "metadata": {
    "collapsed": true
   },
   "outputs": [],
   "source": [
    "def create_dataset(dataset, look_back=1):\n",
    "\n",
    "    dataX, dataY = [], []\n",
    "    \n",
    "    for i in range(len(dataset)-look_back+1):\n",
    "            dataX.append(dataset[i:(i+look_back),:])\n",
    "            dataY.append(dataset[i+look_back-1,:])\n",
    "\n",
    "    return np.array(dataX), np.array(dataY)"
   ]
  },
  {
   "cell_type": "code",
   "execution_count": 292,
   "metadata": {
    "collapsed": true
   },
   "outputs": [],
   "source": [
    "look_back=5\n",
    "col=3"
   ]
  },
  {
   "cell_type": "code",
   "execution_count": 293,
   "metadata": {
    "scrolled": true
   },
   "outputs": [
    {
     "data": {
      "text/plain": [
       "(1133, 3)"
      ]
     },
     "execution_count": 293,
     "metadata": {},
     "output_type": "execute_result"
    }
   ],
   "source": [
    "x=pd.concat([menu.Open_, menu.High_, menu.Low_],axis=1)\n",
    "x.shape"
   ]
  },
  {
   "cell_type": "code",
   "execution_count": 294,
   "metadata": {},
   "outputs": [
    {
     "data": {
      "text/plain": [
       "(1129, 5, 3)"
      ]
     },
     "execution_count": 294,
     "metadata": {},
     "output_type": "execute_result"
    }
   ],
   "source": [
    "x=x.values\n",
    "scaler = MinMaxScaler(feature_range=(0,1))\n",
    "x= scaler.fit_transform(x)\n",
    "x_data,n_n=create_dataset(x,look_back)\n",
    "x_data.shape"
   ]
  },
  {
   "cell_type": "code",
   "execution_count": 295,
   "metadata": {
    "collapsed": true
   },
   "outputs": [],
   "source": [
    "train_size= int(len(x_data)*0.8)\n",
    "test_size= len(x_data)-train_size"
   ]
  },
  {
   "cell_type": "code",
   "execution_count": 296,
   "metadata": {
    "scrolled": true
   },
   "outputs": [
    {
     "name": "stdout",
     "output_type": "stream",
     "text": [
      "[[[ 0.75050888  0.73042342  0.76065176]\n",
      "  [ 0.53825358  0.53696069  0.53373342]\n",
      "  [ 0.57379332  0.53678048  0.46535275]\n",
      "  [ 0.43923492  0.49965303  0.51839971]\n",
      "  [ 0.60280318  0.61085884  0.55678049]]\n",
      "\n",
      " [[ 0.53825358  0.53696069  0.53373342]\n",
      "  [ 0.57379332  0.53678048  0.46535275]\n",
      "  [ 0.43923492  0.49965303  0.51839971]\n",
      "  [ 0.60280318  0.61085884  0.55678049]\n",
      "  [ 0.49560588  0.61067319  0.5567108 ]]\n",
      "\n",
      " [[ 0.57379332  0.53678048  0.46535275]\n",
      "  [ 0.43923492  0.49965303  0.51839971]\n",
      "  [ 0.60280318  0.61085884  0.55678049]\n",
      "  [ 0.49560588  0.61067319  0.5567108 ]\n",
      "  [ 0.65266381  0.61048938  0.61009374]]\n",
      "\n",
      " ..., \n",
      " [[ 0.53825358  0.61582711  0.64289796]\n",
      "  [ 0.55849009  0.63661138  0.53373342]\n",
      "  [ 0.679509    0.82369973  0.68439904]\n",
      "  [ 0.6174058   0.55337371  0.63925914]\n",
      "  [ 0.47953997  0.43196976  0.40883722]]\n",
      "\n",
      " [[ 0.55849009  0.63661138  0.53373342]\n",
      "  [ 0.679509    0.82369973  0.68439904]\n",
      "  [ 0.6174058   0.55337371  0.63925914]\n",
      "  [ 0.47953997  0.43196976  0.40883722]\n",
      "  [ 0.38038642  0.49108005  0.38558589]]\n",
      "\n",
      " [[ 0.679509    0.82369973  0.68439904]\n",
      "  [ 0.6174058   0.55337371  0.63925914]\n",
      "  [ 0.47953997  0.43196976  0.40883722]\n",
      "  [ 0.38038642  0.49108005  0.38558589]\n",
      "  [ 0.55843292  0.51100498  0.44739419]]]\n",
      "(903, 5, 3) (226, 5, 3)\n"
     ]
    }
   ],
   "source": [
    "x_train,x_test= x_data[0:train_size,:],x_data[train_size:len(x_data),:]\n",
    "\n",
    "print(x_train)\n",
    "print(x_train.shape,x_test.shape)"
   ]
  },
  {
   "cell_type": "code",
   "execution_count": 297,
   "metadata": {},
   "outputs": [
    {
     "name": "stdout",
     "output_type": "stream",
     "text": [
      "(903, 15) (226, 15)\n"
     ]
    }
   ],
   "source": [
    "x_train=np.reshape(x_train, (-1, look_back*col))\n",
    "x_test=np.reshape(x_test,(-1, look_back*col))\n",
    "print(x_train.shape, x_test.shape)"
   ]
  },
  {
   "cell_type": "code",
   "execution_count": 298,
   "metadata": {},
   "outputs": [
    {
     "name": "stdout",
     "output_type": "stream",
     "text": [
      "1133\n"
     ]
    }
   ],
   "source": [
    "y=pd.concat([menu.CC],axis=1)\n",
    "y=y.values\n",
    "print (len(y))"
   ]
  },
  {
   "cell_type": "code",
   "execution_count": 299,
   "metadata": {},
   "outputs": [],
   "source": [
    "def markupdown(dataset):\n",
    "    ar=[]\n",
    "    for i in range (len(y)):\n",
    "        #print(y[i])\n",
    "        if y[i]<0:\n",
    "            ar.append([1,0])\n",
    "        else:\n",
    "            ar.append([0,1])\n",
    "        #print('ar= ',ar)\n",
    "    return np.array(ar)"
   ]
  },
  {
   "cell_type": "code",
   "execution_count": 300,
   "metadata": {},
   "outputs": [
    {
     "name": "stdout",
     "output_type": "stream",
     "text": [
      "(903, 2) (226, 2)\n"
     ]
    }
   ],
   "source": [
    "y_data= markupdown(y)\n",
    "y_data=y_data[4:len(y_data),:]\n",
    "y_train,y_test= y_data[0:train_size,:],y_data[train_size:len(y_data),:]\n",
    "print(y_train.shape, y_test.shape)"
   ]
  },
  {
   "cell_type": "markdown",
   "metadata": {},
   "source": [
    "## train model"
   ]
  },
  {
   "cell_type": "code",
   "execution_count": 301,
   "metadata": {
    "collapsed": true
   },
   "outputs": [],
   "source": [
    "def layer(output_dim,input_dim,inputs,activation):\n",
    "    w=tf.Variable(tf.random_normal([input_dim,output_dim]))\n",
    "    b=tf.Variable(tf.random_normal([1,output_dim]))\n",
    "    xwb=tf.matmul(inputs,w)+b\n",
    "    if activation is None:\n",
    "        outputs=xwb\n",
    "    else:\n",
    "        outputs=activation(xwb)\n",
    "    return outputs"
   ]
  },
  {
   "cell_type": "code",
   "execution_count": 302,
   "metadata": {},
   "outputs": [],
   "source": [
    "x=tf.placeholder(\"float\",[None,look_back*col])\n",
    "h1=layer(output_dim=40, input_dim=look_back*col, inputs=x, activation=tf.nn.relu)\n",
    "#h2=layer(output_dim=10, input_dim=80, inputs=h1,activation=tf.nn.relu)\n",
    "y_predict=layer(output_dim=2, input_dim=40, inputs=h1, activation=None)"
   ]
  },
  {
   "cell_type": "code",
   "execution_count": 303,
   "metadata": {
    "collapsed": true
   },
   "outputs": [],
   "source": [
    "y_label=tf.placeholder(\"float\",[None,2])\n",
    "loss_fun=tf.reduce_mean(tf.nn.sigmoid_cross_entropy_with_logits(logits=y_predict, labels=y_label))\n",
    "optimizer=tf.train.AdamOptimizer(learning_rate=0.001).minimize(loss_fun)"
   ]
  },
  {
   "cell_type": "code",
   "execution_count": 304,
   "metadata": {
    "collapsed": true
   },
   "outputs": [],
   "source": [
    "correct_predict=tf.equal(tf.argmax(y_label,1),tf.argmax(y_predict,1))\n",
    "accuracy= tf.reduce_mean(tf.cast(correct_predict,\"float\"))"
   ]
  },
  {
   "cell_type": "markdown",
   "metadata": {},
   "source": [
    "## training"
   ]
  },
  {
   "cell_type": "code",
   "execution_count": 305,
   "metadata": {
    "collapsed": true
   },
   "outputs": [],
   "source": [
    "trainEpochs=500\n",
    "batchsize=100\n",
    "totalbatchs= int(len(x_data)//batchsize)\n",
    "\n",
    "loss_train=[];epoch_list=[];accuracy_train=[]\n",
    "loss_test=[]; accuracy_test=[]\n",
    "from time import time\n",
    "startTime=time()\n",
    "\n",
    "sess=tf.Session()\n",
    "sess.run(tf.global_variables_initializer())"
   ]
  },
  {
   "cell_type": "code",
   "execution_count": 306,
   "metadata": {},
   "outputs": [
    {
     "name": "stdout",
     "output_type": "stream",
     "text": [
      "Loss_train=  0.264621\n",
      "Loss_test=  0.431917\n",
      "Accuracy_train=  0.878412\n",
      "Accuracy_test=  0.761062\n",
      "Train Finished takes: 5.671633958816528\n"
     ]
    }
   ],
   "source": [
    "predict=[]\n",
    "for epoch in range(trainEpochs):\n",
    "    shuffle = np.random.permutation(len(y_train)-1)\n",
    "    x_train = x_train[shuffle]\n",
    "    y_train = y_train[shuffle]\n",
    "    for i in range(totalbatchs):\n",
    "        sess.run(optimizer,feed_dict={x:x_train,y_label:y_train})\n",
    "        \n",
    "    \n",
    "    loss_tra,acc_tra= sess.run([loss_fun, accuracy],feed_dict={x:x_train,y_label:y_train})\n",
    "    loss_t,acc_t= sess.run([loss_fun, accuracy],feed_dict={x:x_test,y_label:y_test})\n",
    "    \n",
    "\n",
    "    epoch_list.append(epoch);\n",
    "    loss_test.append(loss_t)\n",
    "    loss_train.append(loss_tra)\n",
    "    accuracy_test.append(acc_t)\n",
    "    accuracy_train.append(acc_tra)\n",
    "    \n",
    "    \n",
    "    #print (\"Train Epoch:\",'%02d'%(epoch+1),\"Loss=\",\"{:.9f}\".format(loss),\"Accuracy=\",acc)\n",
    "\n",
    "duration=time()-startTime\n",
    "\n",
    "print(\"Loss_train= \",loss_tra)\n",
    "print (\"Loss_test= \",loss_t)\n",
    "\n",
    "print(\"Accuracy_train= \", acc_tra)\n",
    "print(\"Accuracy_test= \", acc_t)\n",
    "\n",
    "print(\"Train Finished takes:\",duration)"
   ]
  },
  {
   "cell_type": "markdown",
   "metadata": {},
   "source": [
    "## plot"
   ]
  },
  {
   "cell_type": "code",
   "execution_count": 307,
   "metadata": {
    "collapsed": true
   },
   "outputs": [],
   "source": [
    "%matplotlib inline\n",
    "import matplotlib.pyplot as plt"
   ]
  },
  {
   "cell_type": "code",
   "execution_count": 308,
   "metadata": {},
   "outputs": [
    {
     "data": {
      "text/plain": [
       "<matplotlib.legend.Legend at 0x1511efd0>"
      ]
     },
     "execution_count": 308,
     "metadata": {},
     "output_type": "execute_result"
    },
    {
     "data": {
      "image/png": "[encoded data removed]",
      "text/plain": [
       "<matplotlib.figure.Figure at 0x14c7f780>"
      ]
     },
     "metadata": {},
     "output_type": "display_data"
    }
   ],
   "source": [
    "fig=plt.gcf()\n",
    "fig.set_size_inches(6,3)\n",
    "plt.plot(epoch_list,loss_train, label='loss_train')\n",
    "plt.plot(epoch_list,loss_test, label='loss_test')\n",
    "plt.ylabel('loss')\n",
    "plt.xlabel('epoch')\n",
    "plt.legend()"
   ]
  },
  {
   "cell_type": "code",
   "execution_count": 309,
   "metadata": {},
   "outputs": [
    {
     "data": {
      "image/png": "[encoded data removed]",
      "text/plain": [
       "<matplotlib.figure.Figure at 0x14eb9208>"
      ]
     },
     "metadata": {},
     "output_type": "display_data"
    }
   ],
   "source": [
    "fig=plt.gcf()\n",
    "fig.set_size_inches(6,3)\n",
    "plt.plot(epoch_list,accuracy_train, label='accuracy_train')\n",
    "plt.plot(epoch_list,accuracy_test, label='accuracy_test')\n",
    "plt.ylabel('accuracy')\n",
    "plt.xlabel('epoch')\n",
    "plt.legend()\n",
    "plt.show()"
   ]
  },
  {
   "cell_type": "code",
   "execution_count": null,
   "metadata": {
    "collapsed": true
   },
   "outputs": [],
   "source": []
  }
 ],
 "metadata": {
  "kernelspec": {
   "display_name": "Python 3",
   "language": "python",
   "name": "python3"
  },
  "language_info": {
   "codemirror_mode": {
    "name": "ipython",
    "version": 3
   },
   "file_extension": ".py",
   "mimetype": "text/x-python",
   "name": "python",
   "nbconvert_exporter": "python",
   "pygments_lexer": "ipython3",
   "version": "3.5.3"
  }
 },
 "nbformat": 4,
 "nbformat_minor": 2
}
